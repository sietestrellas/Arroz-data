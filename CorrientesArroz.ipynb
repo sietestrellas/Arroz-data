{
 "cells": [
  {
   "cell_type": "markdown",
   "id": "24aa164f-15c9-46b3-a04c-460e43e28f7c",
   "metadata": {},
   "source": [
    "# Análisis de datos agrícolas"
   ]
  },
  {
   "cell_type": "markdown",
   "id": "0b04750f-c693-45f9-8763-94a266a7ab66",
   "metadata": {},
   "source": [
    "*** "
   ]
  },
  {
   "cell_type": "markdown",
   "id": "479d911a-9aaf-4d55-bc92-246a743668e3",
   "metadata": {
    "tags": []
   },
   "source": [
    "# Portal de Datos Abiertos de Agroindustria\n"
   ]
  },
  {
   "cell_type": "markdown",
   "id": "2176c2bc-a5e1-4ab2-8859-2b46b7d999ea",
   "metadata": {},
   "source": [
    "Los datos se han descargado de la página del Ministerio de agricultura, ganadería y pesca de la Nación Argentina: https://datos.magyp.gob.ar\n"
   ]
  },
  {
   "cell_type": "markdown",
   "id": "b19eba1b-d4c7-42ef-8ef2-ba654f1c1f18",
   "metadata": {},
   "source": [
    "Además, aquí se suman datos de precios internacionales del cultivo de arroz a lo largo del tiempo.\n",
    "Naciones Unidas recopila datos de comercio exterior de (casi) todos los países del mundo y los disponibiliza en una base de datos llamada Comtrade.\n",
    "En este análisis se utiliza la API de UN Comtrade (https://comtrade.un.org/data/doc/api) para descargar montos y cantidades totales exportadas por la Argentina, y así construir un precio promedio por tonelada exportada."
   ]
  },
  {
   "cell_type": "code",
   "execution_count": 52,
   "id": "0b7bce07-7ae8-4ac3-955b-03d7e82751e9",
   "metadata": {
    "tags": []
   },
   "outputs": [],
   "source": [
    "#Importar librerías\n",
    "from __future__ import unicode_literals\n",
    "import numpy as np\n",
    "import pandas as pd\n",
    "import seaborn as sns\n",
    "import matplotlib.pyplot as plt \n",
    "from datetime import datetime\n",
    "from datetime import timedelta\n",
    "import plotly.express as px\n",
    "import matplotlib as mpl\n",
    "\n",
    "import shutil\n",
    "import requests\n",
    "import json\n",
    "from IPython.display import HTML\n",
    "import plotly.graph_objs as go \n",
    "%matplotlib inline\n"
   ]
  },
  {
   "cell_type": "markdown",
   "id": "f34b27c3-5837-428d-90d5-ada3351c8c6f",
   "metadata": {},
   "source": [
    "### Lectura de datos"
   ]
  },
  {
   "cell_type": "code",
   "execution_count": 54,
   "id": "461b8ea3-d0a3-461c-815b-23bfb846aee3",
   "metadata": {
    "tags": []
   },
   "outputs": [
    {
     "data": {
      "text/html": [
       "<div>\n",
       "<style scoped>\n",
       "    .dataframe tbody tr th:only-of-type {\n",
       "        vertical-align: middle;\n",
       "    }\n",
       "\n",
       "    .dataframe tbody tr th {\n",
       "        vertical-align: top;\n",
       "    }\n",
       "\n",
       "    .dataframe thead th {\n",
       "        text-align: right;\n",
       "    }\n",
       "</style>\n",
       "<table border=\"1\" class=\"dataframe\">\n",
       "  <thead>\n",
       "    <tr style=\"text-align: right;\">\n",
       "      <th></th>\n",
       "      <th>sector_id</th>\n",
       "      <th>sector_nombre</th>\n",
       "      <th>variable_id</th>\n",
       "      <th>actividad_producto_nombre</th>\n",
       "      <th>indicador</th>\n",
       "      <th>unidad_de_medida</th>\n",
       "      <th>fuente</th>\n",
       "      <th>frecuencia_nombre</th>\n",
       "      <th>cobertura_nombre</th>\n",
       "      <th>alcance_tipo</th>\n",
       "      <th>alcance_id</th>\n",
       "      <th>alcance_nombre</th>\n",
       "      <th>indice_tiempo</th>\n",
       "      <th>valor</th>\n",
       "    </tr>\n",
       "  </thead>\n",
       "  <tbody>\n",
       "    <tr>\n",
       "      <th>0</th>\n",
       "      <td>33</td>\n",
       "      <td>Arroz</td>\n",
       "      <td>910</td>\n",
       "      <td>Arroz</td>\n",
       "      <td>Area Cosechada</td>\n",
       "      <td>ha</td>\n",
       "      <td>MAGYP</td>\n",
       "      <td>Anual</td>\n",
       "      <td>Nacional</td>\n",
       "      <td>DEPARTAMENTO</td>\n",
       "      <td>18007</td>\n",
       "      <td>BELLA VISTA</td>\n",
       "      <td>1/1/1970</td>\n",
       "      <td>658.0</td>\n",
       "    </tr>\n",
       "    <tr>\n",
       "      <th>1</th>\n",
       "      <td>33</td>\n",
       "      <td>Arroz</td>\n",
       "      <td>910</td>\n",
       "      <td>Arroz</td>\n",
       "      <td>Area Cosechada</td>\n",
       "      <td>ha</td>\n",
       "      <td>MAGYP</td>\n",
       "      <td>Anual</td>\n",
       "      <td>Nacional</td>\n",
       "      <td>DEPARTAMENTO</td>\n",
       "      <td>18007</td>\n",
       "      <td>BELLA VISTA</td>\n",
       "      <td>1/1/1971</td>\n",
       "      <td>480.0</td>\n",
       "    </tr>\n",
       "    <tr>\n",
       "      <th>2</th>\n",
       "      <td>33</td>\n",
       "      <td>Arroz</td>\n",
       "      <td>910</td>\n",
       "      <td>Arroz</td>\n",
       "      <td>Area Cosechada</td>\n",
       "      <td>ha</td>\n",
       "      <td>MAGYP</td>\n",
       "      <td>Anual</td>\n",
       "      <td>Nacional</td>\n",
       "      <td>DEPARTAMENTO</td>\n",
       "      <td>18007</td>\n",
       "      <td>BELLA VISTA</td>\n",
       "      <td>1/1/1972</td>\n",
       "      <td>660.0</td>\n",
       "    </tr>\n",
       "    <tr>\n",
       "      <th>3</th>\n",
       "      <td>33</td>\n",
       "      <td>Arroz</td>\n",
       "      <td>910</td>\n",
       "      <td>Arroz</td>\n",
       "      <td>Area Cosechada</td>\n",
       "      <td>ha</td>\n",
       "      <td>MAGYP</td>\n",
       "      <td>Anual</td>\n",
       "      <td>Nacional</td>\n",
       "      <td>DEPARTAMENTO</td>\n",
       "      <td>18007</td>\n",
       "      <td>BELLA VISTA</td>\n",
       "      <td>1/1/1973</td>\n",
       "      <td>460.0</td>\n",
       "    </tr>\n",
       "    <tr>\n",
       "      <th>4</th>\n",
       "      <td>33</td>\n",
       "      <td>Arroz</td>\n",
       "      <td>910</td>\n",
       "      <td>Arroz</td>\n",
       "      <td>Area Cosechada</td>\n",
       "      <td>ha</td>\n",
       "      <td>MAGYP</td>\n",
       "      <td>Anual</td>\n",
       "      <td>Nacional</td>\n",
       "      <td>DEPARTAMENTO</td>\n",
       "      <td>18007</td>\n",
       "      <td>BELLA VISTA</td>\n",
       "      <td>1/1/1974</td>\n",
       "      <td>333.0</td>\n",
       "    </tr>\n",
       "  </tbody>\n",
       "</table>\n",
       "</div>"
      ],
      "text/plain": [
       "   sector_id sector_nombre  variable_id actividad_producto_nombre  \\\n",
       "0         33         Arroz          910                     Arroz   \n",
       "1         33         Arroz          910                     Arroz   \n",
       "2         33         Arroz          910                     Arroz   \n",
       "3         33         Arroz          910                     Arroz   \n",
       "4         33         Arroz          910                     Arroz   \n",
       "\n",
       "        indicador unidad_de_medida fuente frecuencia_nombre cobertura_nombre  \\\n",
       "0  Area Cosechada               ha  MAGYP             Anual         Nacional   \n",
       "1  Area Cosechada               ha  MAGYP             Anual         Nacional   \n",
       "2  Area Cosechada               ha  MAGYP             Anual         Nacional   \n",
       "3  Area Cosechada               ha  MAGYP             Anual         Nacional   \n",
       "4  Area Cosechada               ha  MAGYP             Anual         Nacional   \n",
       "\n",
       "   alcance_tipo  alcance_id alcance_nombre indice_tiempo  valor  \n",
       "0  DEPARTAMENTO       18007    BELLA VISTA      1/1/1970  658.0  \n",
       "1  DEPARTAMENTO       18007    BELLA VISTA      1/1/1971  480.0  \n",
       "2  DEPARTAMENTO       18007    BELLA VISTA      1/1/1972  660.0  \n",
       "3  DEPARTAMENTO       18007    BELLA VISTA      1/1/1973  460.0  \n",
       "4  DEPARTAMENTO       18007    BELLA VISTA      1/1/1974  333.0  "
      ]
     },
     "execution_count": 54,
     "metadata": {},
     "output_type": "execute_result"
    }
   ],
   "source": [
    "df = pd.read_csv('arroz.csv', sep=\";\", encoding=\"latin1\", thousands=\".\", decimal=\",\")\n",
    "df_cultivos = pd.read_csv(\"datos-magyp-cultivos-principales.csv\", \n",
    "                          sep=\";\", encoding=\"latin1\", thousands=\".\", decimal=\",\")\n",
    "df.head()"
   ]
  },
  {
   "cell_type": "code",
   "execution_count": 55,
   "id": "ed47c7a1-b846-4815-9438-e89b8460f840",
   "metadata": {
    "tags": []
   },
   "outputs": [
    {
     "data": {
      "text/html": [
       "<div>\n",
       "<style scoped>\n",
       "    .dataframe tbody tr th:only-of-type {\n",
       "        vertical-align: middle;\n",
       "    }\n",
       "\n",
       "    .dataframe tbody tr th {\n",
       "        vertical-align: top;\n",
       "    }\n",
       "\n",
       "    .dataframe thead th {\n",
       "        text-align: right;\n",
       "    }\n",
       "</style>\n",
       "<table border=\"1\" class=\"dataframe\">\n",
       "  <thead>\n",
       "    <tr style=\"text-align: right;\">\n",
       "      <th></th>\n",
       "      <th>IDProvincia</th>\n",
       "      <th>Provincia</th>\n",
       "      <th>IDDepartamento</th>\n",
       "      <th>Departamento</th>\n",
       "      <th>IdCultivo</th>\n",
       "      <th>Cultivo</th>\n",
       "      <th>IDCampaña</th>\n",
       "      <th>Campaña</th>\n",
       "      <th>Sup Sembrada(Ha)</th>\n",
       "      <th>SupCosechada(Ha)</th>\n",
       "      <th>Produccion(Tn)</th>\n",
       "      <th>Rendimiento(Kg/Ha)</th>\n",
       "    </tr>\n",
       "  </thead>\n",
       "  <tbody>\n",
       "    <tr>\n",
       "      <th>0</th>\n",
       "      <td>6</td>\n",
       "      <td>BUENOS AIRES</td>\n",
       "      <td>854</td>\n",
       "      <td>25 de Mayo</td>\n",
       "      <td>1</td>\n",
       "      <td>Ajo</td>\n",
       "      <td>1</td>\n",
       "      <td>1969/70</td>\n",
       "      <td>3</td>\n",
       "      <td>3</td>\n",
       "      <td>10</td>\n",
       "      <td>3333</td>\n",
       "    </tr>\n",
       "    <tr>\n",
       "      <th>1</th>\n",
       "      <td>6</td>\n",
       "      <td>BUENOS AIRES</td>\n",
       "      <td>854</td>\n",
       "      <td>25 de Mayo</td>\n",
       "      <td>1</td>\n",
       "      <td>Ajo</td>\n",
       "      <td>2</td>\n",
       "      <td>1970/71</td>\n",
       "      <td>1</td>\n",
       "      <td>1</td>\n",
       "      <td>3</td>\n",
       "      <td>3000</td>\n",
       "    </tr>\n",
       "    <tr>\n",
       "      <th>2</th>\n",
       "      <td>6</td>\n",
       "      <td>BUENOS AIRES</td>\n",
       "      <td>14</td>\n",
       "      <td>Adolfo Gonzales Chaves</td>\n",
       "      <td>1</td>\n",
       "      <td>Ajo</td>\n",
       "      <td>1</td>\n",
       "      <td>1969/70</td>\n",
       "      <td>15</td>\n",
       "      <td>15</td>\n",
       "      <td>82</td>\n",
       "      <td>5467</td>\n",
       "    </tr>\n",
       "    <tr>\n",
       "      <th>3</th>\n",
       "      <td>6</td>\n",
       "      <td>BUENOS AIRES</td>\n",
       "      <td>14</td>\n",
       "      <td>Adolfo Gonzales Chaves</td>\n",
       "      <td>1</td>\n",
       "      <td>Ajo</td>\n",
       "      <td>2</td>\n",
       "      <td>1970/71</td>\n",
       "      <td>10</td>\n",
       "      <td>10</td>\n",
       "      <td>55</td>\n",
       "      <td>5500</td>\n",
       "    </tr>\n",
       "    <tr>\n",
       "      <th>4</th>\n",
       "      <td>6</td>\n",
       "      <td>BUENOS AIRES</td>\n",
       "      <td>14</td>\n",
       "      <td>Adolfo Gonzales Chaves</td>\n",
       "      <td>1</td>\n",
       "      <td>Ajo</td>\n",
       "      <td>3</td>\n",
       "      <td>1971/72</td>\n",
       "      <td>8</td>\n",
       "      <td>8</td>\n",
       "      <td>44</td>\n",
       "      <td>5500</td>\n",
       "    </tr>\n",
       "  </tbody>\n",
       "</table>\n",
       "</div>"
      ],
      "text/plain": [
       "   IDProvincia     Provincia  IDDepartamento            Departamento  \\\n",
       "0            6  BUENOS AIRES             854              25 de Mayo   \n",
       "1            6  BUENOS AIRES             854              25 de Mayo   \n",
       "2            6  BUENOS AIRES              14  Adolfo Gonzales Chaves   \n",
       "3            6  BUENOS AIRES              14  Adolfo Gonzales Chaves   \n",
       "4            6  BUENOS AIRES              14  Adolfo Gonzales Chaves   \n",
       "\n",
       "   IdCultivo Cultivo  IDCampaña  Campaña  Sup Sembrada(Ha)  SupCosechada(Ha)  \\\n",
       "0          1     Ajo          1  1969/70                 3                 3   \n",
       "1          1     Ajo          2  1970/71                 1                 1   \n",
       "2          1     Ajo          1  1969/70                15                15   \n",
       "3          1     Ajo          2  1970/71                10                10   \n",
       "4          1     Ajo          3  1971/72                 8                 8   \n",
       "\n",
       "   Produccion(Tn)  Rendimiento(Kg/Ha)  \n",
       "0              10                3333  \n",
       "1               3                3000  \n",
       "2              82                5467  \n",
       "3              55                5500  \n",
       "4              44                5500  "
      ]
     },
     "execution_count": 55,
     "metadata": {},
     "output_type": "execute_result"
    }
   ],
   "source": [
    "df_estimaciones = pd.read_csv('datos-magyp-produccion-estimaciones.csv',  sep=\";\", encoding=\"latin1\", thousands=\".\", decimal=\",\")\n",
    "df_estimaciones.head()"
   ]
  },
  {
   "cell_type": "markdown",
   "id": "f1a8731c-1e55-457e-a09b-fb3392e8be92",
   "metadata": {},
   "source": [
    "### Limpieza de datos"
   ]
  },
  {
   "cell_type": "code",
   "execution_count": 8,
   "id": "883f926f-477f-42fd-8755-96ad2ed96a7e",
   "metadata": {
    "tags": []
   },
   "outputs": [
    {
     "name": "stdout",
     "output_type": "stream",
     "text": [
      "<class 'pandas.core.frame.DataFrame'>\n",
      "RangeIndex: 10337 entries, 0 to 10336\n",
      "Data columns (total 14 columns):\n",
      " #   Column                     Non-Null Count  Dtype  \n",
      "---  ------                     --------------  -----  \n",
      " 0   sector_id                  10337 non-null  int64  \n",
      " 1   sector_nombre              10337 non-null  object \n",
      " 2   variable_id                10337 non-null  int64  \n",
      " 3   actividad_producto_nombre  10337 non-null  object \n",
      " 4   indicador                  10337 non-null  object \n",
      " 5   unidad_de_medida           10337 non-null  object \n",
      " 6   fuente                     10337 non-null  object \n",
      " 7   frecuencia_nombre          10337 non-null  object \n",
      " 8   cobertura_nombre           10337 non-null  object \n",
      " 9   alcance_tipo               10337 non-null  object \n",
      " 10  alcance_id                 10337 non-null  int64  \n",
      " 11  alcance_nombre             10337 non-null  object \n",
      " 12  indice_tiempo              10337 non-null  object \n",
      " 13  valor                      10337 non-null  float64\n",
      "dtypes: float64(1), int64(3), object(10)\n",
      "memory usage: 1.1+ MB\n"
     ]
    }
   ],
   "source": [
    "df.info()"
   ]
  },
  {
   "cell_type": "code",
   "execution_count": 9,
   "id": "b5aab073-39e0-4d0e-8645-8d65546a5bba",
   "metadata": {
    "tags": []
   },
   "outputs": [
    {
     "data": {
      "text/plain": [
       "sector_id                    0.0\n",
       "sector_nombre                0.0\n",
       "variable_id                  0.0\n",
       "actividad_producto_nombre    0.0\n",
       "indicador                    0.0\n",
       "unidad_de_medida             0.0\n",
       "fuente                       0.0\n",
       "frecuencia_nombre            0.0\n",
       "cobertura_nombre             0.0\n",
       "alcance_tipo                 0.0\n",
       "alcance_id                   0.0\n",
       "alcance_nombre               0.0\n",
       "indice_tiempo                0.0\n",
       "valor                        0.0\n",
       "dtype: float64"
      ]
     },
     "execution_count": 9,
     "metadata": {},
     "output_type": "execute_result"
    }
   ],
   "source": [
    "# porcentajes de los valores nulos por cada columna\n",
    "df.isna().sum()/len(df)*100"
   ]
  },
  {
   "cell_type": "code",
   "execution_count": 10,
   "id": "4a368d57-0a06-4443-b13b-35525ecb1a23",
   "metadata": {
    "tags": []
   },
   "outputs": [
    {
     "data": {
      "text/plain": [
       "0        False\n",
       "1        False\n",
       "2        False\n",
       "3        False\n",
       "4        False\n",
       "         ...  \n",
       "10332    False\n",
       "10333    False\n",
       "10334    False\n",
       "10335    False\n",
       "10336    False\n",
       "Length: 10337, dtype: bool"
      ]
     },
     "execution_count": 10,
     "metadata": {},
     "output_type": "execute_result"
    }
   ],
   "source": [
    "# duplicados\n",
    "df.duplicated()"
   ]
  },
  {
   "cell_type": "code",
   "execution_count": 11,
   "id": "23379524-75f4-405b-a9e9-621dbf17735f",
   "metadata": {
    "tags": []
   },
   "outputs": [
    {
     "data": {
      "text/html": [
       "<div>\n",
       "<style scoped>\n",
       "    .dataframe tbody tr th:only-of-type {\n",
       "        vertical-align: middle;\n",
       "    }\n",
       "\n",
       "    .dataframe tbody tr th {\n",
       "        vertical-align: top;\n",
       "    }\n",
       "\n",
       "    .dataframe thead th {\n",
       "        text-align: right;\n",
       "    }\n",
       "</style>\n",
       "<table border=\"1\" class=\"dataframe\">\n",
       "  <thead>\n",
       "    <tr style=\"text-align: right;\">\n",
       "      <th></th>\n",
       "      <th>sector_id</th>\n",
       "      <th>variable_id</th>\n",
       "      <th>alcance_id</th>\n",
       "      <th>valor</th>\n",
       "    </tr>\n",
       "  </thead>\n",
       "  <tbody>\n",
       "    <tr>\n",
       "      <th>count</th>\n",
       "      <td>10337.0</td>\n",
       "      <td>10337.000000</td>\n",
       "      <td>10337.000000</td>\n",
       "      <td>1.033700e+04</td>\n",
       "    </tr>\n",
       "    <tr>\n",
       "      <th>mean</th>\n",
       "      <td>33.0</td>\n",
       "      <td>913.019735</td>\n",
       "      <td>17834.637612</td>\n",
       "      <td>8.213912e+11</td>\n",
       "    </tr>\n",
       "    <tr>\n",
       "      <th>std</th>\n",
       "      <td>0.0</td>\n",
       "      <td>2.543088</td>\n",
       "      <td>20875.077301</td>\n",
       "      <td>5.833988e+12</td>\n",
       "    </tr>\n",
       "    <tr>\n",
       "      <th>min</th>\n",
       "      <td>33.0</td>\n",
       "      <td>910.000000</td>\n",
       "      <td>0.000000</td>\n",
       "      <td>0.000000e+00</td>\n",
       "    </tr>\n",
       "    <tr>\n",
       "      <th>25%</th>\n",
       "      <td>33.0</td>\n",
       "      <td>911.000000</td>\n",
       "      <td>98.000000</td>\n",
       "      <td>4.000000e+02</td>\n",
       "    </tr>\n",
       "    <tr>\n",
       "      <th>50%</th>\n",
       "      <td>33.0</td>\n",
       "      <td>913.000000</td>\n",
       "      <td>18056.000000</td>\n",
       "      <td>1.800000e+03</td>\n",
       "    </tr>\n",
       "    <tr>\n",
       "      <th>75%</th>\n",
       "      <td>33.0</td>\n",
       "      <td>914.000000</td>\n",
       "      <td>30015.000000</td>\n",
       "      <td>6.925000e+03</td>\n",
       "    </tr>\n",
       "    <tr>\n",
       "      <th>max</th>\n",
       "      <td>33.0</td>\n",
       "      <td>919.000000</td>\n",
       "      <td>90077.000000</td>\n",
       "      <td>6.726450e+13</td>\n",
       "    </tr>\n",
       "  </tbody>\n",
       "</table>\n",
       "</div>"
      ],
      "text/plain": [
       "       sector_id   variable_id    alcance_id         valor\n",
       "count    10337.0  10337.000000  10337.000000  1.033700e+04\n",
       "mean        33.0    913.019735  17834.637612  8.213912e+11\n",
       "std          0.0      2.543088  20875.077301  5.833988e+12\n",
       "min         33.0    910.000000      0.000000  0.000000e+00\n",
       "25%         33.0    911.000000     98.000000  4.000000e+02\n",
       "50%         33.0    913.000000  18056.000000  1.800000e+03\n",
       "75%         33.0    914.000000  30015.000000  6.925000e+03\n",
       "max         33.0    919.000000  90077.000000  6.726450e+13"
      ]
     },
     "execution_count": 11,
     "metadata": {},
     "output_type": "execute_result"
    }
   ],
   "source": [
    "df.describe()"
   ]
  },
  {
   "cell_type": "markdown",
   "id": "1c3416a6-ebe5-4521-bb13-b50318e34cfc",
   "metadata": {},
   "source": [
    "## Análisis exploratorio de datos"
   ]
  },
  {
   "cell_type": "markdown",
   "id": "dd9f4393-5f68-49c7-bf03-0ec26b323eed",
   "metadata": {
    "tags": []
   },
   "source": [
    "### Provincia de Corrientes"
   ]
  },
  {
   "cell_type": "code",
   "execution_count": 56,
   "id": "cba09e59-0edb-41e8-92a6-ae4ef5b9ff7e",
   "metadata": {
    "tags": []
   },
   "outputs": [],
   "source": [
    "df1 = pd.read_csv('arroz_departamentosCorrientes.csv', sep=\";\", encoding=\"latin1\", thousands=\".\", decimal=\",\")"
   ]
  },
  {
   "cell_type": "code",
   "execution_count": 14,
   "id": "346846b6-a171-4782-96b0-246dcfc84990",
   "metadata": {
    "tags": []
   },
   "outputs": [
    {
     "data": {
      "text/html": [
       "<div>\n",
       "<style scoped>\n",
       "    .dataframe tbody tr th:only-of-type {\n",
       "        vertical-align: middle;\n",
       "    }\n",
       "\n",
       "    .dataframe tbody tr th {\n",
       "        vertical-align: top;\n",
       "    }\n",
       "\n",
       "    .dataframe thead th {\n",
       "        text-align: right;\n",
       "    }\n",
       "</style>\n",
       "<table border=\"1\" class=\"dataframe\">\n",
       "  <thead>\n",
       "    <tr style=\"text-align: right;\">\n",
       "      <th></th>\n",
       "      <th>sector_id</th>\n",
       "      <th>sector_nombre</th>\n",
       "      <th>variable_id</th>\n",
       "      <th>actividad_producto_nombre</th>\n",
       "      <th>indicador</th>\n",
       "      <th>unidad_de_medida</th>\n",
       "      <th>fuente</th>\n",
       "      <th>frecuencia_nombre</th>\n",
       "      <th>cobertura_nombre</th>\n",
       "      <th>alcance_tipo</th>\n",
       "      <th>alcance_id</th>\n",
       "      <th>alcance_nombre</th>\n",
       "      <th>indice_tiempo</th>\n",
       "      <th>valor</th>\n",
       "    </tr>\n",
       "  </thead>\n",
       "  <tbody>\n",
       "    <tr>\n",
       "      <th>0</th>\n",
       "      <td>33</td>\n",
       "      <td>Arroz</td>\n",
       "      <td>910</td>\n",
       "      <td>Arroz</td>\n",
       "      <td>Area Cosechada</td>\n",
       "      <td>ha</td>\n",
       "      <td>MAGYP</td>\n",
       "      <td>Anual</td>\n",
       "      <td>Nacional</td>\n",
       "      <td>DEPARTAMENTO</td>\n",
       "      <td>18007</td>\n",
       "      <td>BELLA VISTA</td>\n",
       "      <td>1/1/1970</td>\n",
       "      <td>658</td>\n",
       "    </tr>\n",
       "    <tr>\n",
       "      <th>1</th>\n",
       "      <td>33</td>\n",
       "      <td>Arroz</td>\n",
       "      <td>910</td>\n",
       "      <td>Arroz</td>\n",
       "      <td>Area Cosechada</td>\n",
       "      <td>ha</td>\n",
       "      <td>MAGYP</td>\n",
       "      <td>Anual</td>\n",
       "      <td>Nacional</td>\n",
       "      <td>DEPARTAMENTO</td>\n",
       "      <td>18007</td>\n",
       "      <td>BELLA VISTA</td>\n",
       "      <td>1/1/1971</td>\n",
       "      <td>480</td>\n",
       "    </tr>\n",
       "    <tr>\n",
       "      <th>2</th>\n",
       "      <td>33</td>\n",
       "      <td>Arroz</td>\n",
       "      <td>910</td>\n",
       "      <td>Arroz</td>\n",
       "      <td>Area Cosechada</td>\n",
       "      <td>ha</td>\n",
       "      <td>MAGYP</td>\n",
       "      <td>Anual</td>\n",
       "      <td>Nacional</td>\n",
       "      <td>DEPARTAMENTO</td>\n",
       "      <td>18007</td>\n",
       "      <td>BELLA VISTA</td>\n",
       "      <td>1/1/1972</td>\n",
       "      <td>660</td>\n",
       "    </tr>\n",
       "    <tr>\n",
       "      <th>3</th>\n",
       "      <td>33</td>\n",
       "      <td>Arroz</td>\n",
       "      <td>910</td>\n",
       "      <td>Arroz</td>\n",
       "      <td>Area Cosechada</td>\n",
       "      <td>ha</td>\n",
       "      <td>MAGYP</td>\n",
       "      <td>Anual</td>\n",
       "      <td>Nacional</td>\n",
       "      <td>DEPARTAMENTO</td>\n",
       "      <td>18007</td>\n",
       "      <td>BELLA VISTA</td>\n",
       "      <td>1/1/1973</td>\n",
       "      <td>460</td>\n",
       "    </tr>\n",
       "    <tr>\n",
       "      <th>4</th>\n",
       "      <td>33</td>\n",
       "      <td>Arroz</td>\n",
       "      <td>910</td>\n",
       "      <td>Arroz</td>\n",
       "      <td>Area Cosechada</td>\n",
       "      <td>ha</td>\n",
       "      <td>MAGYP</td>\n",
       "      <td>Anual</td>\n",
       "      <td>Nacional</td>\n",
       "      <td>DEPARTAMENTO</td>\n",
       "      <td>18007</td>\n",
       "      <td>BELLA VISTA</td>\n",
       "      <td>1/1/1974</td>\n",
       "      <td>333</td>\n",
       "    </tr>\n",
       "  </tbody>\n",
       "</table>\n",
       "</div>"
      ],
      "text/plain": [
       "   sector_id sector_nombre  variable_id actividad_producto_nombre  \\\n",
       "0         33         Arroz          910                     Arroz   \n",
       "1         33         Arroz          910                     Arroz   \n",
       "2         33         Arroz          910                     Arroz   \n",
       "3         33         Arroz          910                     Arroz   \n",
       "4         33         Arroz          910                     Arroz   \n",
       "\n",
       "        indicador unidad_de_medida fuente frecuencia_nombre cobertura_nombre  \\\n",
       "0  Area Cosechada               ha  MAGYP             Anual         Nacional   \n",
       "1  Area Cosechada               ha  MAGYP             Anual         Nacional   \n",
       "2  Area Cosechada               ha  MAGYP             Anual         Nacional   \n",
       "3  Area Cosechada               ha  MAGYP             Anual         Nacional   \n",
       "4  Area Cosechada               ha  MAGYP             Anual         Nacional   \n",
       "\n",
       "   alcance_tipo  alcance_id alcance_nombre indice_tiempo  valor  \n",
       "0  DEPARTAMENTO       18007    BELLA VISTA      1/1/1970    658  \n",
       "1  DEPARTAMENTO       18007    BELLA VISTA      1/1/1971    480  \n",
       "2  DEPARTAMENTO       18007    BELLA VISTA      1/1/1972    660  \n",
       "3  DEPARTAMENTO       18007    BELLA VISTA      1/1/1973    460  \n",
       "4  DEPARTAMENTO       18007    BELLA VISTA      1/1/1974    333  "
      ]
     },
     "execution_count": 14,
     "metadata": {},
     "output_type": "execute_result"
    }
   ],
   "source": [
    "df1.head()"
   ]
  },
  {
   "cell_type": "code",
   "execution_count": 15,
   "id": "9b0d173b-b0e7-44b9-9fb6-a8667bd02959",
   "metadata": {
    "tags": []
   },
   "outputs": [
    {
     "data": {
      "text/html": [
       "<div>\n",
       "<style scoped>\n",
       "    .dataframe tbody tr th:only-of-type {\n",
       "        vertical-align: middle;\n",
       "    }\n",
       "\n",
       "    .dataframe tbody tr th {\n",
       "        vertical-align: top;\n",
       "    }\n",
       "\n",
       "    .dataframe thead th {\n",
       "        text-align: right;\n",
       "    }\n",
       "</style>\n",
       "<table border=\"1\" class=\"dataframe\">\n",
       "  <thead>\n",
       "    <tr style=\"text-align: right;\">\n",
       "      <th></th>\n",
       "      <th>sector_id</th>\n",
       "      <th>sector_nombre</th>\n",
       "      <th>variable_id</th>\n",
       "      <th>actividad_producto_nombre</th>\n",
       "      <th>indicador</th>\n",
       "      <th>unidad_de_medida</th>\n",
       "      <th>fuente</th>\n",
       "      <th>frecuencia_nombre</th>\n",
       "      <th>cobertura_nombre</th>\n",
       "      <th>alcance_tipo</th>\n",
       "      <th>alcance_id</th>\n",
       "      <th>alcance_nombre</th>\n",
       "      <th>indice_tiempo</th>\n",
       "      <th>valor</th>\n",
       "    </tr>\n",
       "  </thead>\n",
       "  <tbody>\n",
       "    <tr>\n",
       "      <th>989</th>\n",
       "      <td>33</td>\n",
       "      <td>Arroz</td>\n",
       "      <td>910</td>\n",
       "      <td>Arroz</td>\n",
       "      <td>Area Cosechada</td>\n",
       "      <td>ha</td>\n",
       "      <td>MAGYP</td>\n",
       "      <td>Anual</td>\n",
       "      <td>Nacional</td>\n",
       "      <td>DEPARTAMENTO</td>\n",
       "      <td>18175</td>\n",
       "      <td>SAUCE</td>\n",
       "      <td>1/1/2019</td>\n",
       "      <td>3000</td>\n",
       "    </tr>\n",
       "    <tr>\n",
       "      <th>990</th>\n",
       "      <td>33</td>\n",
       "      <td>Arroz</td>\n",
       "      <td>910</td>\n",
       "      <td>Arroz</td>\n",
       "      <td>Area Cosechada</td>\n",
       "      <td>ha</td>\n",
       "      <td>MAGYP</td>\n",
       "      <td>Anual</td>\n",
       "      <td>Nacional</td>\n",
       "      <td>DEPARTAMENTO</td>\n",
       "      <td>18175</td>\n",
       "      <td>SAUCE</td>\n",
       "      <td>1/1/2020</td>\n",
       "      <td>3300</td>\n",
       "    </tr>\n",
       "    <tr>\n",
       "      <th>991</th>\n",
       "      <td>33</td>\n",
       "      <td>Arroz</td>\n",
       "      <td>910</td>\n",
       "      <td>Arroz</td>\n",
       "      <td>Area Cosechada</td>\n",
       "      <td>ha</td>\n",
       "      <td>MAGYP</td>\n",
       "      <td>Anual</td>\n",
       "      <td>Nacional</td>\n",
       "      <td>DEPARTAMENTO</td>\n",
       "      <td>18175</td>\n",
       "      <td>SAUCE</td>\n",
       "      <td>1/1/2021</td>\n",
       "      <td>3300</td>\n",
       "    </tr>\n",
       "    <tr>\n",
       "      <th>992</th>\n",
       "      <td>33</td>\n",
       "      <td>Arroz</td>\n",
       "      <td>910</td>\n",
       "      <td>Arroz</td>\n",
       "      <td>Area Cosechada</td>\n",
       "      <td>ha</td>\n",
       "      <td>MAGYP</td>\n",
       "      <td>Anual</td>\n",
       "      <td>Nacional</td>\n",
       "      <td>DEPARTAMENTO</td>\n",
       "      <td>18175</td>\n",
       "      <td>SAUCE</td>\n",
       "      <td>1/1/2022</td>\n",
       "      <td>4700</td>\n",
       "    </tr>\n",
       "    <tr>\n",
       "      <th>993</th>\n",
       "      <td>33</td>\n",
       "      <td>Arroz</td>\n",
       "      <td>910</td>\n",
       "      <td>Arroz</td>\n",
       "      <td>Area Cosechada</td>\n",
       "      <td>ha</td>\n",
       "      <td>MAGYP</td>\n",
       "      <td>Anual</td>\n",
       "      <td>Nacional</td>\n",
       "      <td>DEPARTAMENTO</td>\n",
       "      <td>18175</td>\n",
       "      <td>SAUCE</td>\n",
       "      <td>1/1/2023</td>\n",
       "      <td>4750</td>\n",
       "    </tr>\n",
       "  </tbody>\n",
       "</table>\n",
       "</div>"
      ],
      "text/plain": [
       "     sector_id sector_nombre  variable_id actividad_producto_nombre  \\\n",
       "989         33         Arroz          910                     Arroz   \n",
       "990         33         Arroz          910                     Arroz   \n",
       "991         33         Arroz          910                     Arroz   \n",
       "992         33         Arroz          910                     Arroz   \n",
       "993         33         Arroz          910                     Arroz   \n",
       "\n",
       "          indicador unidad_de_medida fuente frecuencia_nombre  \\\n",
       "989  Area Cosechada               ha  MAGYP             Anual   \n",
       "990  Area Cosechada               ha  MAGYP             Anual   \n",
       "991  Area Cosechada               ha  MAGYP             Anual   \n",
       "992  Area Cosechada               ha  MAGYP             Anual   \n",
       "993  Area Cosechada               ha  MAGYP             Anual   \n",
       "\n",
       "    cobertura_nombre  alcance_tipo  alcance_id alcance_nombre indice_tiempo  \\\n",
       "989         Nacional  DEPARTAMENTO       18175          SAUCE      1/1/2019   \n",
       "990         Nacional  DEPARTAMENTO       18175          SAUCE      1/1/2020   \n",
       "991         Nacional  DEPARTAMENTO       18175          SAUCE      1/1/2021   \n",
       "992         Nacional  DEPARTAMENTO       18175          SAUCE      1/1/2022   \n",
       "993         Nacional  DEPARTAMENTO       18175          SAUCE      1/1/2023   \n",
       "\n",
       "     valor  \n",
       "989   3000  \n",
       "990   3300  \n",
       "991   3300  \n",
       "992   4700  \n",
       "993   4750  "
      ]
     },
     "execution_count": 15,
     "metadata": {},
     "output_type": "execute_result"
    }
   ],
   "source": [
    "df1.tail()"
   ]
  },
  {
   "cell_type": "markdown",
   "id": "a6d35538-845d-439b-b3c4-69e1a2ed8350",
   "metadata": {
    "tags": []
   },
   "source": [
    "### 5 mayores y menores valores de área cosechada"
   ]
  },
  {
   "cell_type": "code",
   "execution_count": 16,
   "id": "8db3651a-55bc-4a7b-b061-c26b5b0cc4ca",
   "metadata": {
    "tags": []
   },
   "outputs": [
    {
     "data": {
      "text/plain": [
       "alcance_nombre\n",
       "MERCEDES              406618\n",
       "CURUZU CUATIA         348732\n",
       "PASO DE LOS LIBRES    216216\n",
       "BERON DE ASTRADA      165632\n",
       "SAN MARTIN            147734\n",
       "Name: valor, dtype: int64"
      ]
     },
     "execution_count": 16,
     "metadata": {},
     "output_type": "execute_result"
    }
   ],
   "source": [
    "df1.groupby('alcance_nombre').sum()['valor'].nlargest()"
   ]
  },
  {
   "cell_type": "code",
   "execution_count": 17,
   "id": "6e94605f-344b-42f6-ae09-69418270ae88",
   "metadata": {
    "tags": []
   },
   "outputs": [
    {
     "data": {
      "text/plain": [
       "alcance_nombre\n",
       "SAN COSME               6479\n",
       "CAPITAL                11442\n",
       "MBURUCUYA              20119\n",
       "SAN LUIS DEL PALMAR    26801\n",
       "CONCEPCION             31365\n",
       "Name: valor, dtype: int64"
      ]
     },
     "execution_count": 17,
     "metadata": {},
     "output_type": "execute_result"
    }
   ],
   "source": [
    "df1.groupby('alcance_nombre').sum()['valor'].nsmallest()"
   ]
  },
  {
   "cell_type": "markdown",
   "id": "cf6a18d1-a4e6-4ed8-b52c-b1b1d6b14eea",
   "metadata": {},
   "source": [
    "### Gráfico de valores de área cosechada"
   ]
  },
  {
   "cell_type": "code",
   "execution_count": 18,
   "id": "a83734ab-55bd-453a-83a5-f9d19c2c5903",
   "metadata": {
    "tags": []
   },
   "outputs": [
    {
     "data": {
      "image/png": "[encoded data removed]",
      "text/plain": [
       "<Figure size 2000x2000 with 1 Axes>"
      ]
     },
     "metadata": {},
     "output_type": "display_data"
    }
   ],
   "source": [
    "#estructurar datos\n",
    "Corrientes_pivot = pd.pivot_table(df1, index = [\"alcance_nombre\"], columns=[\"indice_tiempo\"], values = [\"valor\"])\n",
    "Corrientes_pivot[\"Área cosechada\"] = Corrientes_pivot.mean(axis=1)\n",
    "Corrientes_pivot.reset_index(inplace = True)\n",
    "\n",
    "#Construir visualización \n",
    "plt.figure(figsize= (20,20))\n",
    "sns.barplot(y = \"alcance_nombre\", x = \"Área cosechada\", data =Corrientes_pivot, \n",
    "            palette = \"PuBuGn_r\", order =Corrientes_pivot.sort_values(\"Área cosechada\", ascending = False)[\"alcance_nombre\"])\n",
    "\n",
    "#detalles\n",
    "plt.ylabel(\"alcance_nombre\", fontsize=30)\n",
    "plt.xlabel(\"Área cosechada\", fontsize=30)\n",
    "\n",
    "plt.title(\"Valores de área cosechada\", \n",
    "          fontsize = 40, loc='left', y = 1.02)\n",
    "plt.annotate('Source:  https://datos.magyp.gob.ar', (0,-.1), xycoords ='axes fraction' )\n",
    "sns.despine(top = True, right = True, left = False, bottom = False)"
   ]
  },
  {
   "cell_type": "code",
   "execution_count": 19,
   "id": "51d5d113-3ab1-44cb-9cad-5fa822e2a8de",
   "metadata": {
    "tags": []
   },
   "outputs": [
    {
     "data": {
      "text/plain": [
       "array(['1/1/1970', '1/1/1971', '1/1/1972', '1/1/1973', '1/1/1974',\n",
       "       '1/1/1975', '1/1/1976', '1/1/1977', '1/1/1978', '1/1/1979',\n",
       "       '1/1/1980', '1/1/1981', '1/1/1982', '1/1/1983', '1/1/1984',\n",
       "       '1/1/1985', '1/1/1986', '1/1/1987', '1/1/1990', '1/1/1991',\n",
       "       '1/1/1992', '1/1/1993', '1/1/1994', '1/1/1995', '1/1/1996',\n",
       "       '1/1/1997', '1/1/1998', '1/1/1999', '1/1/2000', '1/1/2001',\n",
       "       '1/1/2002', '1/1/2003', '1/1/2004', '1/1/2005', '1/1/2006',\n",
       "       '1/1/2007', '1/1/2008', '1/1/2009', '1/1/2010', '1/1/2011',\n",
       "       '1/1/2019', '1/1/2020', '1/1/2021', '1/1/2022', '1/1/2023'],\n",
       "      dtype=object)"
      ]
     },
     "execution_count": 19,
     "metadata": {},
     "output_type": "execute_result"
    }
   ],
   "source": [
    "df1['indice_tiempo'].unique()"
   ]
  },
  {
   "cell_type": "markdown",
   "id": "ee44e732-c0d1-4dde-8a8e-5adf3387c63f",
   "metadata": {},
   "source": [
    "### Filtro de última cosecha  por Ha en 2023 por Departamento"
   ]
  },
  {
   "cell_type": "code",
   "execution_count": 57,
   "id": "52a6a455-3569-40ba-8e0b-3791f82dcdbc",
   "metadata": {
    "tags": []
   },
   "outputs": [
    {
     "data": {
      "text/plain": [
       "0    False\n",
       "1    False\n",
       "2    False\n",
       "3    False\n",
       "4    False\n",
       "Name: indice_tiempo, dtype: bool"
      ]
     },
     "execution_count": 57,
     "metadata": {},
     "output_type": "execute_result"
    }
   ],
   "source": [
    "\n",
    "en_2023 = df1['indice_tiempo'] == '1/1/2023'\n",
    "en_2023.head()"
   ]
  },
  {
   "cell_type": "code",
   "execution_count": 58,
   "id": "3572c4c8-553b-4d3d-aae4-6923efd75ec8",
   "metadata": {
    "tags": []
   },
   "outputs": [
    {
     "data": {
      "text/html": [
       "<div>\n",
       "<style scoped>\n",
       "    .dataframe tbody tr th:only-of-type {\n",
       "        vertical-align: middle;\n",
       "    }\n",
       "\n",
       "    .dataframe tbody tr th {\n",
       "        vertical-align: top;\n",
       "    }\n",
       "\n",
       "    .dataframe thead th {\n",
       "        text-align: right;\n",
       "    }\n",
       "</style>\n",
       "<table border=\"1\" class=\"dataframe\">\n",
       "  <thead>\n",
       "    <tr style=\"text-align: right;\">\n",
       "      <th></th>\n",
       "      <th>sector_id</th>\n",
       "      <th>sector_nombre</th>\n",
       "      <th>variable_id</th>\n",
       "      <th>actividad_producto_nombre</th>\n",
       "      <th>indicador</th>\n",
       "      <th>unidad_de_medida</th>\n",
       "      <th>fuente</th>\n",
       "      <th>frecuencia_nombre</th>\n",
       "      <th>cobertura_nombre</th>\n",
       "      <th>alcance_tipo</th>\n",
       "      <th>alcance_id</th>\n",
       "      <th>alcance_nombre</th>\n",
       "      <th>indice_tiempo</th>\n",
       "      <th>valor</th>\n",
       "    </tr>\n",
       "  </thead>\n",
       "  <tbody>\n",
       "    <tr>\n",
       "      <th>44</th>\n",
       "      <td>33</td>\n",
       "      <td>Arroz</td>\n",
       "      <td>910</td>\n",
       "      <td>Arroz</td>\n",
       "      <td>Area Cosechada</td>\n",
       "      <td>ha</td>\n",
       "      <td>MAGYP</td>\n",
       "      <td>Anual</td>\n",
       "      <td>Nacional</td>\n",
       "      <td>DEPARTAMENTO</td>\n",
       "      <td>18007</td>\n",
       "      <td>BELLA VISTA</td>\n",
       "      <td>1/1/2023</td>\n",
       "      <td>1400</td>\n",
       "    </tr>\n",
       "    <tr>\n",
       "      <th>88</th>\n",
       "      <td>33</td>\n",
       "      <td>Arroz</td>\n",
       "      <td>910</td>\n",
       "      <td>Arroz</td>\n",
       "      <td>Area Cosechada</td>\n",
       "      <td>ha</td>\n",
       "      <td>MAGYP</td>\n",
       "      <td>Anual</td>\n",
       "      <td>Nacional</td>\n",
       "      <td>DEPARTAMENTO</td>\n",
       "      <td>18014</td>\n",
       "      <td>BERON DE ASTRADA</td>\n",
       "      <td>1/1/2023</td>\n",
       "      <td>12100</td>\n",
       "    </tr>\n",
       "    <tr>\n",
       "      <th>191</th>\n",
       "      <td>33</td>\n",
       "      <td>Arroz</td>\n",
       "      <td>910</td>\n",
       "      <td>Arroz</td>\n",
       "      <td>Area Cosechada</td>\n",
       "      <td>ha</td>\n",
       "      <td>MAGYP</td>\n",
       "      <td>Anual</td>\n",
       "      <td>Nacional</td>\n",
       "      <td>DEPARTAMENTO</td>\n",
       "      <td>18035</td>\n",
       "      <td>CURUZU CUATIA</td>\n",
       "      <td>1/1/2023</td>\n",
       "      <td>10350</td>\n",
       "    </tr>\n",
       "    <tr>\n",
       "      <th>232</th>\n",
       "      <td>33</td>\n",
       "      <td>Arroz</td>\n",
       "      <td>910</td>\n",
       "      <td>Arroz</td>\n",
       "      <td>Area Cosechada</td>\n",
       "      <td>ha</td>\n",
       "      <td>MAGYP</td>\n",
       "      <td>Anual</td>\n",
       "      <td>Nacional</td>\n",
       "      <td>DEPARTAMENTO</td>\n",
       "      <td>18042</td>\n",
       "      <td>EMPEDRADO</td>\n",
       "      <td>1/1/2023</td>\n",
       "      <td>660</td>\n",
       "    </tr>\n",
       "    <tr>\n",
       "      <th>276</th>\n",
       "      <td>33</td>\n",
       "      <td>Arroz</td>\n",
       "      <td>910</td>\n",
       "      <td>Arroz</td>\n",
       "      <td>Area Cosechada</td>\n",
       "      <td>ha</td>\n",
       "      <td>MAGYP</td>\n",
       "      <td>Anual</td>\n",
       "      <td>Nacional</td>\n",
       "      <td>DEPARTAMENTO</td>\n",
       "      <td>18049</td>\n",
       "      <td>ESQUINA</td>\n",
       "      <td>1/1/2023</td>\n",
       "      <td>2300</td>\n",
       "    </tr>\n",
       "    <tr>\n",
       "      <th>319</th>\n",
       "      <td>33</td>\n",
       "      <td>Arroz</td>\n",
       "      <td>910</td>\n",
       "      <td>Arroz</td>\n",
       "      <td>Area Cosechada</td>\n",
       "      <td>ha</td>\n",
       "      <td>MAGYP</td>\n",
       "      <td>Anual</td>\n",
       "      <td>Nacional</td>\n",
       "      <td>DEPARTAMENTO</td>\n",
       "      <td>18056</td>\n",
       "      <td>GENERAL ALVEAR</td>\n",
       "      <td>1/1/2023</td>\n",
       "      <td>550</td>\n",
       "    </tr>\n",
       "    <tr>\n",
       "      <th>363</th>\n",
       "      <td>33</td>\n",
       "      <td>Arroz</td>\n",
       "      <td>910</td>\n",
       "      <td>Arroz</td>\n",
       "      <td>Area Cosechada</td>\n",
       "      <td>ha</td>\n",
       "      <td>MAGYP</td>\n",
       "      <td>Anual</td>\n",
       "      <td>Nacional</td>\n",
       "      <td>DEPARTAMENTO</td>\n",
       "      <td>18063</td>\n",
       "      <td>GENERAL PAZ</td>\n",
       "      <td>1/1/2023</td>\n",
       "      <td>550</td>\n",
       "    </tr>\n",
       "    <tr>\n",
       "      <th>407</th>\n",
       "      <td>33</td>\n",
       "      <td>Arroz</td>\n",
       "      <td>910</td>\n",
       "      <td>Arroz</td>\n",
       "      <td>Area Cosechada</td>\n",
       "      <td>ha</td>\n",
       "      <td>MAGYP</td>\n",
       "      <td>Anual</td>\n",
       "      <td>Nacional</td>\n",
       "      <td>DEPARTAMENTO</td>\n",
       "      <td>18070</td>\n",
       "      <td>GOYA</td>\n",
       "      <td>1/1/2023</td>\n",
       "      <td>6040</td>\n",
       "    </tr>\n",
       "    <tr>\n",
       "      <th>450</th>\n",
       "      <td>33</td>\n",
       "      <td>Arroz</td>\n",
       "      <td>910</td>\n",
       "      <td>Arroz</td>\n",
       "      <td>Area Cosechada</td>\n",
       "      <td>ha</td>\n",
       "      <td>MAGYP</td>\n",
       "      <td>Anual</td>\n",
       "      <td>Nacional</td>\n",
       "      <td>DEPARTAMENTO</td>\n",
       "      <td>18077</td>\n",
       "      <td>ITATI</td>\n",
       "      <td>1/1/2023</td>\n",
       "      <td>350</td>\n",
       "    </tr>\n",
       "    <tr>\n",
       "      <th>533</th>\n",
       "      <td>33</td>\n",
       "      <td>Arroz</td>\n",
       "      <td>910</td>\n",
       "      <td>Arroz</td>\n",
       "      <td>Area Cosechada</td>\n",
       "      <td>ha</td>\n",
       "      <td>MAGYP</td>\n",
       "      <td>Anual</td>\n",
       "      <td>Nacional</td>\n",
       "      <td>DEPARTAMENTO</td>\n",
       "      <td>18091</td>\n",
       "      <td>LAVALLE</td>\n",
       "      <td>1/1/2023</td>\n",
       "      <td>3300</td>\n",
       "    </tr>\n",
       "    <tr>\n",
       "      <th>606</th>\n",
       "      <td>33</td>\n",
       "      <td>Arroz</td>\n",
       "      <td>910</td>\n",
       "      <td>Arroz</td>\n",
       "      <td>Area Cosechada</td>\n",
       "      <td>ha</td>\n",
       "      <td>MAGYP</td>\n",
       "      <td>Anual</td>\n",
       "      <td>Nacional</td>\n",
       "      <td>DEPARTAMENTO</td>\n",
       "      <td>18105</td>\n",
       "      <td>MERCEDES</td>\n",
       "      <td>1/1/2023</td>\n",
       "      <td>16950</td>\n",
       "    </tr>\n",
       "  </tbody>\n",
       "</table>\n",
       "</div>"
      ],
      "text/plain": [
       "     sector_id sector_nombre  variable_id actividad_producto_nombre  \\\n",
       "44          33         Arroz          910                     Arroz   \n",
       "88          33         Arroz          910                     Arroz   \n",
       "191         33         Arroz          910                     Arroz   \n",
       "232         33         Arroz          910                     Arroz   \n",
       "276         33         Arroz          910                     Arroz   \n",
       "319         33         Arroz          910                     Arroz   \n",
       "363         33         Arroz          910                     Arroz   \n",
       "407         33         Arroz          910                     Arroz   \n",
       "450         33         Arroz          910                     Arroz   \n",
       "533         33         Arroz          910                     Arroz   \n",
       "606         33         Arroz          910                     Arroz   \n",
       "\n",
       "          indicador unidad_de_medida fuente frecuencia_nombre  \\\n",
       "44   Area Cosechada               ha  MAGYP             Anual   \n",
       "88   Area Cosechada               ha  MAGYP             Anual   \n",
       "191  Area Cosechada               ha  MAGYP             Anual   \n",
       "232  Area Cosechada               ha  MAGYP             Anual   \n",
       "276  Area Cosechada               ha  MAGYP             Anual   \n",
       "319  Area Cosechada               ha  MAGYP             Anual   \n",
       "363  Area Cosechada               ha  MAGYP             Anual   \n",
       "407  Area Cosechada               ha  MAGYP             Anual   \n",
       "450  Area Cosechada               ha  MAGYP             Anual   \n",
       "533  Area Cosechada               ha  MAGYP             Anual   \n",
       "606  Area Cosechada               ha  MAGYP             Anual   \n",
       "\n",
       "    cobertura_nombre  alcance_tipo  alcance_id    alcance_nombre  \\\n",
       "44          Nacional  DEPARTAMENTO       18007       BELLA VISTA   \n",
       "88          Nacional  DEPARTAMENTO       18014  BERON DE ASTRADA   \n",
       "191         Nacional  DEPARTAMENTO       18035     CURUZU CUATIA   \n",
       "232         Nacional  DEPARTAMENTO       18042         EMPEDRADO   \n",
       "276         Nacional  DEPARTAMENTO       18049           ESQUINA   \n",
       "319         Nacional  DEPARTAMENTO       18056    GENERAL ALVEAR   \n",
       "363         Nacional  DEPARTAMENTO       18063       GENERAL PAZ   \n",
       "407         Nacional  DEPARTAMENTO       18070              GOYA   \n",
       "450         Nacional  DEPARTAMENTO       18077             ITATI   \n",
       "533         Nacional  DEPARTAMENTO       18091           LAVALLE   \n",
       "606         Nacional  DEPARTAMENTO       18105          MERCEDES   \n",
       "\n",
       "    indice_tiempo  valor  \n",
       "44       1/1/2023   1400  \n",
       "88       1/1/2023  12100  \n",
       "191      1/1/2023  10350  \n",
       "232      1/1/2023    660  \n",
       "276      1/1/2023   2300  \n",
       "319      1/1/2023    550  \n",
       "363      1/1/2023    550  \n",
       "407      1/1/2023   6040  \n",
       "450      1/1/2023    350  \n",
       "533      1/1/2023   3300  \n",
       "606      1/1/2023  16950  "
      ]
     },
     "execution_count": 58,
     "metadata": {},
     "output_type": "execute_result"
    }
   ],
   "source": [
    "cosecha_2023 = df1[en_2023]\n",
    "cosecha_2023.head(11)"
   ]
  },
  {
   "cell_type": "markdown",
   "id": "15df9319-1277-456d-b4a8-c9d08293543d",
   "metadata": {
    "tags": []
   },
   "source": [
    "### Cosecha de mayor valor"
   ]
  },
  {
   "cell_type": "code",
   "execution_count": 22,
   "id": "567b24a5-458f-4de3-bcd5-c5cd4e2cca4f",
   "metadata": {
    "tags": []
   },
   "outputs": [
    {
     "data": {
      "text/html": [
       "<div>\n",
       "<style scoped>\n",
       "    .dataframe tbody tr th:only-of-type {\n",
       "        vertical-align: middle;\n",
       "    }\n",
       "\n",
       "    .dataframe tbody tr th {\n",
       "        vertical-align: top;\n",
       "    }\n",
       "\n",
       "    .dataframe thead th {\n",
       "        text-align: right;\n",
       "    }\n",
       "</style>\n",
       "<table border=\"1\" class=\"dataframe\">\n",
       "  <thead>\n",
       "    <tr style=\"text-align: right;\">\n",
       "      <th></th>\n",
       "      <th>sector_id</th>\n",
       "      <th>sector_nombre</th>\n",
       "      <th>variable_id</th>\n",
       "      <th>actividad_producto_nombre</th>\n",
       "      <th>indicador</th>\n",
       "      <th>unidad_de_medida</th>\n",
       "      <th>fuente</th>\n",
       "      <th>frecuencia_nombre</th>\n",
       "      <th>cobertura_nombre</th>\n",
       "      <th>alcance_tipo</th>\n",
       "      <th>alcance_id</th>\n",
       "      <th>alcance_nombre</th>\n",
       "      <th>indice_tiempo</th>\n",
       "      <th>valor</th>\n",
       "    </tr>\n",
       "  </thead>\n",
       "  <tbody>\n",
       "    <tr>\n",
       "      <th>606</th>\n",
       "      <td>33</td>\n",
       "      <td>Arroz</td>\n",
       "      <td>910</td>\n",
       "      <td>Arroz</td>\n",
       "      <td>Area Cosechada</td>\n",
       "      <td>ha</td>\n",
       "      <td>MAGYP</td>\n",
       "      <td>Anual</td>\n",
       "      <td>Nacional</td>\n",
       "      <td>DEPARTAMENTO</td>\n",
       "      <td>18105</td>\n",
       "      <td>MERCEDES</td>\n",
       "      <td>1/1/2023</td>\n",
       "      <td>16950</td>\n",
       "    </tr>\n",
       "  </tbody>\n",
       "</table>\n",
       "</div>"
      ],
      "text/plain": [
       "     sector_id sector_nombre  variable_id actividad_producto_nombre  \\\n",
       "606         33         Arroz          910                     Arroz   \n",
       "\n",
       "          indicador unidad_de_medida fuente frecuencia_nombre  \\\n",
       "606  Area Cosechada               ha  MAGYP             Anual   \n",
       "\n",
       "    cobertura_nombre  alcance_tipo  alcance_id alcance_nombre indice_tiempo  \\\n",
       "606         Nacional  DEPARTAMENTO       18105       MERCEDES      1/1/2023   \n",
       "\n",
       "     valor  \n",
       "606  16950  "
      ]
     },
     "execution_count": 22,
     "metadata": {},
     "output_type": "execute_result"
    }
   ],
   "source": [
    "cosecha_2023.loc[(cosecha_2023[\"valor\"]==cosecha_2023[\"valor\"].max()),:]"
   ]
  },
  {
   "cell_type": "code",
   "execution_count": 59,
   "id": "16fde6ab-8cc3-4332-9e5b-9d7c5719d583",
   "metadata": {
    "tags": []
   },
   "outputs": [
    {
     "data": {
      "image/png": "[encoded data removed]",
      "text/plain": [
       "<Figure size 800x800 with 1 Axes>"
      ]
     },
     "metadata": {},
     "output_type": "display_data"
    }
   ],
   "source": [
    "#definir datos\n",
    "data = cosecha_2023['valor']\n",
    "labels = cosecha_2023['alcance_nombre']\n",
    "\n",
    "plt.figure(figsize=(8,8))\n",
    "# Creando Donut Chart\n",
    "plt.pie(data,labels=labels,wedgeprops = { 'linewidth' : 8, 'edgecolor' : 'white' },autopct='%2.1f%%',shadow=True)\n",
    "plt.rc(\"font\",size=10)\n",
    "# Agregando un círculo en el centro\n",
    "my_circle=plt.Circle( (0,0), 0.5, color='white')\n",
    "p=plt.gcf()\n",
    "p.gca().add_artist(my_circle)\n",
    "plt.title(\"Distribución del valor por departamento\",size=20,loc=\"center\")\n",
    "\n",
    "plt.tight_layout()"
   ]
  },
  {
   "cell_type": "markdown",
   "id": "07ea5a59-204b-4b65-b911-5fe8addc26c5",
   "metadata": {},
   "source": [
    "## Departamento de Mercedes"
   ]
  },
  {
   "cell_type": "markdown",
   "id": "55965784-a9e5-478d-aaa5-98a5b3c39486",
   "metadata": {
    "tags": []
   },
   "source": [
    "### Filtro departamento de Mercedes  por Ha en 2023 por Departamento"
   ]
  },
  {
   "cell_type": "code",
   "execution_count": 60,
   "id": "cdd62628-e6a1-4317-9c0b-643ccc0ad9e2",
   "metadata": {
    "tags": []
   },
   "outputs": [
    {
     "data": {
      "text/plain": [
       "0    False\n",
       "1    False\n",
       "2    False\n",
       "3    False\n",
       "4    False\n",
       "Name: alcance_nombre, dtype: bool"
      ]
     },
     "execution_count": 60,
     "metadata": {},
     "output_type": "execute_result"
    }
   ],
   "source": [
    "\n",
    "en_mercedes = df1['alcance_nombre'] == 'MERCEDES'\n",
    "en_mercedes.head()"
   ]
  },
  {
   "cell_type": "code",
   "execution_count": 61,
   "id": "c26398fe-4bca-473b-a7b1-5a6963009181",
   "metadata": {
    "tags": []
   },
   "outputs": [
    {
     "data": {
      "text/html": [
       "<div>\n",
       "<style scoped>\n",
       "    .dataframe tbody tr th:only-of-type {\n",
       "        vertical-align: middle;\n",
       "    }\n",
       "\n",
       "    .dataframe tbody tr th {\n",
       "        vertical-align: top;\n",
       "    }\n",
       "\n",
       "    .dataframe thead th {\n",
       "        text-align: right;\n",
       "    }\n",
       "</style>\n",
       "<table border=\"1\" class=\"dataframe\">\n",
       "  <thead>\n",
       "    <tr style=\"text-align: right;\">\n",
       "      <th></th>\n",
       "      <th>sector_id</th>\n",
       "      <th>sector_nombre</th>\n",
       "      <th>variable_id</th>\n",
       "      <th>actividad_producto_nombre</th>\n",
       "      <th>indicador</th>\n",
       "      <th>unidad_de_medida</th>\n",
       "      <th>fuente</th>\n",
       "      <th>frecuencia_nombre</th>\n",
       "      <th>cobertura_nombre</th>\n",
       "      <th>alcance_tipo</th>\n",
       "      <th>alcance_id</th>\n",
       "      <th>alcance_nombre</th>\n",
       "      <th>indice_tiempo</th>\n",
       "      <th>valor</th>\n",
       "    </tr>\n",
       "  </thead>\n",
       "  <tbody>\n",
       "    <tr>\n",
       "      <th>563</th>\n",
       "      <td>33</td>\n",
       "      <td>Arroz</td>\n",
       "      <td>910</td>\n",
       "      <td>Arroz</td>\n",
       "      <td>Area Cosechada</td>\n",
       "      <td>ha</td>\n",
       "      <td>MAGYP</td>\n",
       "      <td>Anual</td>\n",
       "      <td>Nacional</td>\n",
       "      <td>DEPARTAMENTO</td>\n",
       "      <td>18105</td>\n",
       "      <td>MERCEDES</td>\n",
       "      <td>1/1/1970</td>\n",
       "      <td>380</td>\n",
       "    </tr>\n",
       "    <tr>\n",
       "      <th>564</th>\n",
       "      <td>33</td>\n",
       "      <td>Arroz</td>\n",
       "      <td>910</td>\n",
       "      <td>Arroz</td>\n",
       "      <td>Area Cosechada</td>\n",
       "      <td>ha</td>\n",
       "      <td>MAGYP</td>\n",
       "      <td>Anual</td>\n",
       "      <td>Nacional</td>\n",
       "      <td>DEPARTAMENTO</td>\n",
       "      <td>18105</td>\n",
       "      <td>MERCEDES</td>\n",
       "      <td>1/1/1971</td>\n",
       "      <td>245</td>\n",
       "    </tr>\n",
       "    <tr>\n",
       "      <th>565</th>\n",
       "      <td>33</td>\n",
       "      <td>Arroz</td>\n",
       "      <td>910</td>\n",
       "      <td>Arroz</td>\n",
       "      <td>Area Cosechada</td>\n",
       "      <td>ha</td>\n",
       "      <td>MAGYP</td>\n",
       "      <td>Anual</td>\n",
       "      <td>Nacional</td>\n",
       "      <td>DEPARTAMENTO</td>\n",
       "      <td>18105</td>\n",
       "      <td>MERCEDES</td>\n",
       "      <td>1/1/1972</td>\n",
       "      <td>360</td>\n",
       "    </tr>\n",
       "    <tr>\n",
       "      <th>566</th>\n",
       "      <td>33</td>\n",
       "      <td>Arroz</td>\n",
       "      <td>910</td>\n",
       "      <td>Arroz</td>\n",
       "      <td>Area Cosechada</td>\n",
       "      <td>ha</td>\n",
       "      <td>MAGYP</td>\n",
       "      <td>Anual</td>\n",
       "      <td>Nacional</td>\n",
       "      <td>DEPARTAMENTO</td>\n",
       "      <td>18105</td>\n",
       "      <td>MERCEDES</td>\n",
       "      <td>1/1/1973</td>\n",
       "      <td>720</td>\n",
       "    </tr>\n",
       "    <tr>\n",
       "      <th>567</th>\n",
       "      <td>33</td>\n",
       "      <td>Arroz</td>\n",
       "      <td>910</td>\n",
       "      <td>Arroz</td>\n",
       "      <td>Area Cosechada</td>\n",
       "      <td>ha</td>\n",
       "      <td>MAGYP</td>\n",
       "      <td>Anual</td>\n",
       "      <td>Nacional</td>\n",
       "      <td>DEPARTAMENTO</td>\n",
       "      <td>18105</td>\n",
       "      <td>MERCEDES</td>\n",
       "      <td>1/1/1974</td>\n",
       "      <td>845</td>\n",
       "    </tr>\n",
       "  </tbody>\n",
       "</table>\n",
       "</div>"
      ],
      "text/plain": [
       "     sector_id sector_nombre  variable_id actividad_producto_nombre  \\\n",
       "563         33         Arroz          910                     Arroz   \n",
       "564         33         Arroz          910                     Arroz   \n",
       "565         33         Arroz          910                     Arroz   \n",
       "566         33         Arroz          910                     Arroz   \n",
       "567         33         Arroz          910                     Arroz   \n",
       "\n",
       "          indicador unidad_de_medida fuente frecuencia_nombre  \\\n",
       "563  Area Cosechada               ha  MAGYP             Anual   \n",
       "564  Area Cosechada               ha  MAGYP             Anual   \n",
       "565  Area Cosechada               ha  MAGYP             Anual   \n",
       "566  Area Cosechada               ha  MAGYP             Anual   \n",
       "567  Area Cosechada               ha  MAGYP             Anual   \n",
       "\n",
       "    cobertura_nombre  alcance_tipo  alcance_id alcance_nombre indice_tiempo  \\\n",
       "563         Nacional  DEPARTAMENTO       18105       MERCEDES      1/1/1970   \n",
       "564         Nacional  DEPARTAMENTO       18105       MERCEDES      1/1/1971   \n",
       "565         Nacional  DEPARTAMENTO       18105       MERCEDES      1/1/1972   \n",
       "566         Nacional  DEPARTAMENTO       18105       MERCEDES      1/1/1973   \n",
       "567         Nacional  DEPARTAMENTO       18105       MERCEDES      1/1/1974   \n",
       "\n",
       "     valor  \n",
       "563    380  \n",
       "564    245  \n",
       "565    360  \n",
       "566    720  \n",
       "567    845  "
      ]
     },
     "execution_count": 61,
     "metadata": {},
     "output_type": "execute_result"
    }
   ],
   "source": [
    "mercedes = df1[en_mercedes]\n",
    "mercedes.head()"
   ]
  },
  {
   "cell_type": "markdown",
   "id": "83948bba-d8de-4e0f-9a78-f434e976c94a",
   "metadata": {},
   "source": [
    "## Mayores  Valores por Área Cosechada en Ha"
   ]
  },
  {
   "cell_type": "code",
   "execution_count": 26,
   "id": "388c61dd-2592-4f49-ae1b-88a232273f4e",
   "metadata": {
    "tags": []
   },
   "outputs": [
    {
     "data": {
      "text/html": [
       "<div>\n",
       "<style scoped>\n",
       "    .dataframe tbody tr th:only-of-type {\n",
       "        vertical-align: middle;\n",
       "    }\n",
       "\n",
       "    .dataframe tbody tr th {\n",
       "        vertical-align: top;\n",
       "    }\n",
       "\n",
       "    .dataframe thead th {\n",
       "        text-align: right;\n",
       "    }\n",
       "</style>\n",
       "<table border=\"1\" class=\"dataframe\">\n",
       "  <thead>\n",
       "    <tr style=\"text-align: right;\">\n",
       "      <th></th>\n",
       "      <th>sector_id</th>\n",
       "      <th>sector_nombre</th>\n",
       "      <th>variable_id</th>\n",
       "      <th>actividad_producto_nombre</th>\n",
       "      <th>indicador</th>\n",
       "      <th>unidad_de_medida</th>\n",
       "      <th>fuente</th>\n",
       "      <th>frecuencia_nombre</th>\n",
       "      <th>cobertura_nombre</th>\n",
       "      <th>alcance_tipo</th>\n",
       "      <th>alcance_id</th>\n",
       "      <th>alcance_nombre</th>\n",
       "      <th>indice_tiempo</th>\n",
       "      <th>valor</th>\n",
       "    </tr>\n",
       "  </thead>\n",
       "  <tbody>\n",
       "    <tr>\n",
       "      <th>603</th>\n",
       "      <td>33</td>\n",
       "      <td>Arroz</td>\n",
       "      <td>910</td>\n",
       "      <td>Arroz</td>\n",
       "      <td>Area Cosechada</td>\n",
       "      <td>ha</td>\n",
       "      <td>MAGYP</td>\n",
       "      <td>Anual</td>\n",
       "      <td>Nacional</td>\n",
       "      <td>DEPARTAMENTO</td>\n",
       "      <td>18105</td>\n",
       "      <td>MERCEDES</td>\n",
       "      <td>1/1/2020</td>\n",
       "      <td>23600</td>\n",
       "    </tr>\n",
       "    <tr>\n",
       "      <th>604</th>\n",
       "      <td>33</td>\n",
       "      <td>Arroz</td>\n",
       "      <td>910</td>\n",
       "      <td>Arroz</td>\n",
       "      <td>Area Cosechada</td>\n",
       "      <td>ha</td>\n",
       "      <td>MAGYP</td>\n",
       "      <td>Anual</td>\n",
       "      <td>Nacional</td>\n",
       "      <td>DEPARTAMENTO</td>\n",
       "      <td>18105</td>\n",
       "      <td>MERCEDES</td>\n",
       "      <td>1/1/2021</td>\n",
       "      <td>23600</td>\n",
       "    </tr>\n",
       "  </tbody>\n",
       "</table>\n",
       "</div>"
      ],
      "text/plain": [
       "     sector_id sector_nombre  variable_id actividad_producto_nombre  \\\n",
       "603         33         Arroz          910                     Arroz   \n",
       "604         33         Arroz          910                     Arroz   \n",
       "\n",
       "          indicador unidad_de_medida fuente frecuencia_nombre  \\\n",
       "603  Area Cosechada               ha  MAGYP             Anual   \n",
       "604  Area Cosechada               ha  MAGYP             Anual   \n",
       "\n",
       "    cobertura_nombre  alcance_tipo  alcance_id alcance_nombre indice_tiempo  \\\n",
       "603         Nacional  DEPARTAMENTO       18105       MERCEDES      1/1/2020   \n",
       "604         Nacional  DEPARTAMENTO       18105       MERCEDES      1/1/2021   \n",
       "\n",
       "     valor  \n",
       "603  23600  \n",
       "604  23600  "
      ]
     },
     "execution_count": 26,
     "metadata": {},
     "output_type": "execute_result"
    }
   ],
   "source": [
    "\n",
    "mercedes.loc[(mercedes[\"valor\"]==mercedes[\"valor\"].max()),:]"
   ]
  },
  {
   "cell_type": "markdown",
   "id": "44f9d0f8-1d60-46b5-beba-5ffa6f96e1e8",
   "metadata": {},
   "source": [
    "### Gráfico de valor por área cosechada por año"
   ]
  },
  {
   "cell_type": "code",
   "execution_count": 62,
   "id": "da3811a3-746f-4297-b177-20a3613267b4",
   "metadata": {},
   "outputs": [
    {
     "data": {
      "application/vnd.plotly.v1+json": {
       "config": {
        "plotlyServerURL": "https://plot.ly"
       },
       "data": [
        {
         "hovertemplate": "indice_tiempo=%{x}<br>valor=%{y}<extra></extra>",
         "legendgroup": "",
         "line": {
          "color": "#636efa",
          "dash": "solid"
         },
         "marker": {
          "symbol": "circle"
         },
         "mode": "lines+markers",
         "name": "",
         "orientation": "v",
         "showlegend": false,
         "type": "scatter",
         "x": [
          "1/1/1970",
          "1/1/1971",
          "1/1/1972",
          "1/1/1973",
          "1/1/1974",
          "1/1/1975",
          "1/1/1976",
          "1/1/1977",
          "1/1/1978",
          "1/1/1979",
          "1/1/1980",
          "1/1/1981",
          "1/1/1982",
          "1/1/1983",
          "1/1/1984",
          "1/1/1985",
          "1/1/1986",
          "1/1/1987",
          "1/1/1991",
          "1/1/1992",
          "1/1/1993",
          "1/1/1994",
          "1/1/1995",
          "1/1/1996",
          "1/1/1997",
          "1/1/1998",
          "1/1/1999",
          "1/1/2000",
          "1/1/2001",
          "1/1/2002",
          "1/1/2003",
          "1/1/2004",
          "1/1/2005",
          "1/1/2006",
          "1/1/2007",
          "1/1/2008",
          "1/1/2009",
          "1/1/2010",
          "1/1/2011",
          "1/1/2019",
          "1/1/2020",
          "1/1/2021",
          "1/1/2022",
          "1/1/2023"
         ],
         "xaxis": "x",
         "y": [
          380,
          245,
          360,
          720,
          845,
          960,
          870,
          775,
          875,
          1100,
          1665,
          2170,
          5000,
          4000,
          5000,
          1200,
          3340,
          2060,
          1400,
          4300,
          4900,
          5900,
          8700,
          9800,
          11100,
          8990,
          17200,
          11550,
          15260,
          13575,
          14160,
          16453,
          15075,
          18970,
          16575,
          21095,
          18490,
          17260,
          19150,
          22650,
          23600,
          23600,
          18350,
          16950
         ],
         "yaxis": "y"
        }
       ],
       "layout": {
        "annotations": [
         {
          "align": "left",
          "font": {
           "color": "darkgrey",
           "size": 10
          },
          "showarrow": false,
          "text": "Source:https://datos.magyp.gob.ar/dataset?tags=arroz&_tags_limit=0",
          "x": 0,
          "xanchor": "left",
          "xref": "paper",
          "xshift": -1,
          "y": -0.3,
          "yanchor": "bottom",
          "yref": "paper",
          "yshift": -5
         }
        ],
        "autosize": true,
        "legend": {
         "tracegroupgap": 0
        },
        "paper_bgcolor": "white",
        "plot_bgcolor": "white",
        "shapes": [
         {
          "line": {
           "dash": "dot",
           "width": 1
          },
          "type": "line",
          "x0": 0,
          "x1": 1,
          "xref": "x domain",
          "y0": 0,
          "y1": 0,
          "yref": "y"
         }
        ],
        "template": {
         "data": {
          "bar": [
           {
            "error_x": {
             "color": "#2a3f5f"
            },
            "error_y": {
             "color": "#2a3f5f"
            },
            "marker": {
             "line": {
              "color": "#E5ECF6",
              "width": 0.5
             },
             "pattern": {
              "fillmode": "overlay",
              "size": 10,
              "solidity": 0.2
             }
            },
            "type": "bar"
           }
          ],
          "barpolar": [
           {
            "marker": {
             "line": {
              "color": "#E5ECF6",
              "width": 0.5
             },
             "pattern": {
              "fillmode": "overlay",
              "size": 10,
              "solidity": 0.2
             }
            },
            "type": "barpolar"
           }
          ],
          "carpet": [
           {
            "aaxis": {
             "endlinecolor": "#2a3f5f",
             "gridcolor": "white",
             "linecolor": "white",
             "minorgridcolor": "white",
             "startlinecolor": "#2a3f5f"
            },
            "baxis": {
             "endlinecolor": "#2a3f5f",
             "gridcolor": "white",
             "linecolor": "white",
             "minorgridcolor": "white",
             "startlinecolor": "#2a3f5f"
            },
            "type": "carpet"
           }
          ],
          "choropleth": [
           {
            "colorbar": {
             "outlinewidth": 0,
             "ticks": ""
            },
            "type": "choropleth"
           }
          ],
          "contour": [
           {
            "colorbar": {
             "outlinewidth": 0,
             "ticks": ""
            },
            "colorscale": [
             [
              0,
              "#0d0887"
             ],
             [
              0.1111111111111111,
              "#46039f"
             ],
             [
              0.2222222222222222,
              "#7201a8"
             ],
             [
              0.3333333333333333,
              "#9c179e"
             ],
             [
              0.4444444444444444,
              "#bd3786"
             ],
             [
              0.5555555555555556,
              "#d8576b"
             ],
             [
              0.6666666666666666,
              "#ed7953"
             ],
             [
              0.7777777777777778,
              "#fb9f3a"
             ],
             [
              0.8888888888888888,
              "#fdca26"
             ],
             [
              1,
              "#f0f921"
             ]
            ],
            "type": "contour"
           }
          ],
          "contourcarpet": [
           {
            "colorbar": {
             "outlinewidth": 0,
             "ticks": ""
            },
            "type": "contourcarpet"
           }
          ],
          "heatmap": [
           {
            "colorbar": {
             "outlinewidth": 0,
             "ticks": ""
            },
            "colorscale": [
             [
              0,
              "#0d0887"
             ],
             [
              0.1111111111111111,
              "#46039f"
             ],
             [
              0.2222222222222222,
              "#7201a8"
             ],
             [
              0.3333333333333333,
              "#9c179e"
             ],
             [
              0.4444444444444444,
              "#bd3786"
             ],
             [
              0.5555555555555556,
              "#d8576b"
             ],
             [
              0.6666666666666666,
              "#ed7953"
             ],
             [
              0.7777777777777778,
              "#fb9f3a"
             ],
             [
              0.8888888888888888,
              "#fdca26"
             ],
             [
              1,
              "#f0f921"
             ]
            ],
            "type": "heatmap"
           }
          ],
          "heatmapgl": [
           {
            "colorbar": {
             "outlinewidth": 0,
             "ticks": ""
            },
            "colorscale": [
             [
              0,
              "#0d0887"
             ],
             [
              0.1111111111111111,
              "#46039f"
             ],
             [
              0.2222222222222222,
              "#7201a8"
             ],
             [
              0.3333333333333333,
              "#9c179e"
             ],
             [
              0.4444444444444444,
              "#bd3786"
             ],
             [
              0.5555555555555556,
              "#d8576b"
             ],
             [
              0.6666666666666666,
              "#ed7953"
             ],
             [
              0.7777777777777778,
              "#fb9f3a"
             ],
             [
              0.8888888888888888,
              "#fdca26"
             ],
             [
              1,
              "#f0f921"
             ]
            ],
            "type": "heatmapgl"
           }
          ],
          "histogram": [
           {
            "marker": {
             "pattern": {
              "fillmode": "overlay",
              "size": 10,
              "solidity": 0.2
             }
            },
            "type": "histogram"
           }
          ],
          "histogram2d": [
           {
            "colorbar": {
             "outlinewidth": 0,
             "ticks": ""
            },
            "colorscale": [
             [
              0,
              "#0d0887"
             ],
             [
              0.1111111111111111,
              "#46039f"
             ],
             [
              0.2222222222222222,
              "#7201a8"
             ],
             [
              0.3333333333333333,
              "#9c179e"
             ],
             [
              0.4444444444444444,
              "#bd3786"
             ],
             [
              0.5555555555555556,
              "#d8576b"
             ],
             [
              0.6666666666666666,
              "#ed7953"
             ],
             [
              0.7777777777777778,
              "#fb9f3a"
             ],
             [
              0.8888888888888888,
              "#fdca26"
             ],
             [
              1,
              "#f0f921"
             ]
            ],
            "type": "histogram2d"
           }
          ],
          "histogram2dcontour": [
           {
            "colorbar": {
             "outlinewidth": 0,
             "ticks": ""
            },
            "colorscale": [
             [
              0,
              "#0d0887"
             ],
             [
              0.1111111111111111,
              "#46039f"
             ],
             [
              0.2222222222222222,
              "#7201a8"
             ],
             [
              0.3333333333333333,
              "#9c179e"
             ],
             [
              0.4444444444444444,
              "#bd3786"
             ],
             [
              0.5555555555555556,
              "#d8576b"
             ],
             [
              0.6666666666666666,
              "#ed7953"
             ],
             [
              0.7777777777777778,
              "#fb9f3a"
             ],
             [
              0.8888888888888888,
              "#fdca26"
             ],
             [
              1,
              "#f0f921"
             ]
            ],
            "type": "histogram2dcontour"
           }
          ],
          "mesh3d": [
           {
            "colorbar": {
             "outlinewidth": 0,
             "ticks": ""
            },
            "type": "mesh3d"
           }
          ],
          "parcoords": [
           {
            "line": {
             "colorbar": {
              "outlinewidth": 0,
              "ticks": ""
             }
            },
            "type": "parcoords"
           }
          ],
          "pie": [
           {
            "automargin": true,
            "type": "pie"
           }
          ],
          "scatter": [
           {
            "fillpattern": {
             "fillmode": "overlay",
             "size": 10,
             "solidity": 0.2
            },
            "type": "scatter"
           }
          ],
          "scatter3d": [
           {
            "line": {
             "colorbar": {
              "outlinewidth": 0,
              "ticks": ""
             }
            },
            "marker": {
             "colorbar": {
              "outlinewidth": 0,
              "ticks": ""
             }
            },
            "type": "scatter3d"
           }
          ],
          "scattercarpet": [
           {
            "marker": {
             "colorbar": {
              "outlinewidth": 0,
              "ticks": ""
             }
            },
            "type": "scattercarpet"
           }
          ],
          "scattergeo": [
           {
            "marker": {
             "colorbar": {
              "outlinewidth": 0,
              "ticks": ""
             }
            },
            "type": "scattergeo"
           }
          ],
          "scattergl": [
           {
            "marker": {
             "colorbar": {
              "outlinewidth": 0,
              "ticks": ""
             }
            },
            "type": "scattergl"
           }
          ],
          "scattermapbox": [
           {
            "marker": {
             "colorbar": {
              "outlinewidth": 0,
              "ticks": ""
             }
            },
            "type": "scattermapbox"
           }
          ],
          "scatterpolar": [
           {
            "marker": {
             "colorbar": {
              "outlinewidth": 0,
              "ticks": ""
             }
            },
            "type": "scatterpolar"
           }
          ],
          "scatterpolargl": [
           {
            "marker": {
             "colorbar": {
              "outlinewidth": 0,
              "ticks": ""
             }
            },
            "type": "scatterpolargl"
           }
          ],
          "scatterternary": [
           {
            "marker": {
             "colorbar": {
              "outlinewidth": 0,
              "ticks": ""
             }
            },
            "type": "scatterternary"
           }
          ],
          "surface": [
           {
            "colorbar": {
             "outlinewidth": 0,
             "ticks": ""
            },
            "colorscale": [
             [
              0,
              "#0d0887"
             ],
             [
              0.1111111111111111,
              "#46039f"
             ],
             [
              0.2222222222222222,
              "#7201a8"
             ],
             [
              0.3333333333333333,
              "#9c179e"
             ],
             [
              0.4444444444444444,
              "#bd3786"
             ],
             [
              0.5555555555555556,
              "#d8576b"
             ],
             [
              0.6666666666666666,
              "#ed7953"
             ],
             [
              0.7777777777777778,
              "#fb9f3a"
             ],
             [
              0.8888888888888888,
              "#fdca26"
             ],
             [
              1,
              "#f0f921"
             ]
            ],
            "type": "surface"
           }
          ],
          "table": [
           {
            "cells": {
             "fill": {
              "color": "#EBF0F8"
             },
             "line": {
              "color": "white"
             }
            },
            "header": {
             "fill": {
              "color": "#C8D4E3"
             },
             "line": {
              "color": "white"
             }
            },
            "type": "table"
           }
          ]
         },
         "layout": {
          "annotationdefaults": {
           "arrowcolor": "#2a3f5f",
           "arrowhead": 0,
           "arrowwidth": 1
          },
          "autotypenumbers": "strict",
          "coloraxis": {
           "colorbar": {
            "outlinewidth": 0,
            "ticks": ""
           }
          },
          "colorscale": {
           "diverging": [
            [
             0,
             "#8e0152"
            ],
            [
             0.1,
             "#c51b7d"
            ],
            [
             0.2,
             "#de77ae"
            ],
            [
             0.3,
             "#f1b6da"
            ],
            [
             0.4,
             "#fde0ef"
            ],
            [
             0.5,
             "#f7f7f7"
            ],
            [
             0.6,
             "#e6f5d0"
            ],
            [
             0.7,
             "#b8e186"
            ],
            [
             0.8,
             "#7fbc41"
            ],
            [
             0.9,
             "#4d9221"
            ],
            [
             1,
             "#276419"
            ]
           ],
           "sequential": [
            [
             0,
             "#0d0887"
            ],
            [
             0.1111111111111111,
             "#46039f"
            ],
            [
             0.2222222222222222,
             "#7201a8"
            ],
            [
             0.3333333333333333,
             "#9c179e"
            ],
            [
             0.4444444444444444,
             "#bd3786"
            ],
            [
             0.5555555555555556,
             "#d8576b"
            ],
            [
             0.6666666666666666,
             "#ed7953"
            ],
            [
             0.7777777777777778,
             "#fb9f3a"
            ],
            [
             0.8888888888888888,
             "#fdca26"
            ],
            [
             1,
             "#f0f921"
            ]
           ],
           "sequentialminus": [
            [
             0,
             "#0d0887"
            ],
            [
             0.1111111111111111,
             "#46039f"
            ],
            [
             0.2222222222222222,
             "#7201a8"
            ],
            [
             0.3333333333333333,
             "#9c179e"
            ],
            [
             0.4444444444444444,
             "#bd3786"
            ],
            [
             0.5555555555555556,
             "#d8576b"
            ],
            [
             0.6666666666666666,
             "#ed7953"
            ],
            [
             0.7777777777777778,
             "#fb9f3a"
            ],
            [
             0.8888888888888888,
             "#fdca26"
            ],
            [
             1,
             "#f0f921"
            ]
           ]
          },
          "colorway": [
           "#636efa",
           "#EF553B",
           "#00cc96",
           "#ab63fa",
           "#FFA15A",
           "#19d3f3",
           "#FF6692",
           "#B6E880",
           "#FF97FF",
           "#FECB52"
          ],
          "font": {
           "color": "#2a3f5f"
          },
          "geo": {
           "bgcolor": "white",
           "lakecolor": "white",
           "landcolor": "#E5ECF6",
           "showlakes": true,
           "showland": true,
           "subunitcolor": "white"
          },
          "hoverlabel": {
           "align": "left"
          },
          "hovermode": "closest",
          "mapbox": {
           "style": "light"
          },
          "paper_bgcolor": "white",
          "plot_bgcolor": "#E5ECF6",
          "polar": {
           "angularaxis": {
            "gridcolor": "white",
            "linecolor": "white",
            "ticks": ""
           },
           "bgcolor": "#E5ECF6",
           "radialaxis": {
            "gridcolor": "white",
            "linecolor": "white",
            "ticks": ""
           }
          },
          "scene": {
           "xaxis": {
            "backgroundcolor": "#E5ECF6",
            "gridcolor": "white",
            "gridwidth": 2,
            "linecolor": "white",
            "showbackground": true,
            "ticks": "",
            "zerolinecolor": "white"
           },
           "yaxis": {
            "backgroundcolor": "#E5ECF6",
            "gridcolor": "white",
            "gridwidth": 2,
            "linecolor": "white",
            "showbackground": true,
            "ticks": "",
            "zerolinecolor": "white"
           },
           "zaxis": {
            "backgroundcolor": "#E5ECF6",
            "gridcolor": "white",
            "gridwidth": 2,
            "linecolor": "white",
            "showbackground": true,
            "ticks": "",
            "zerolinecolor": "white"
           }
          },
          "shapedefaults": {
           "line": {
            "color": "#2a3f5f"
           }
          },
          "ternary": {
           "aaxis": {
            "gridcolor": "white",
            "linecolor": "white",
            "ticks": ""
           },
           "baxis": {
            "gridcolor": "white",
            "linecolor": "white",
            "ticks": ""
           },
           "bgcolor": "#E5ECF6",
           "caxis": {
            "gridcolor": "white",
            "linecolor": "white",
            "ticks": ""
           }
          },
          "title": {
           "x": 0.05
          },
          "xaxis": {
           "automargin": true,
           "gridcolor": "white",
           "linecolor": "white",
           "ticks": "",
           "title": {
            "standoff": 15
           },
           "zerolinecolor": "white",
           "zerolinewidth": 2
          },
          "yaxis": {
           "automargin": true,
           "gridcolor": "white",
           "linecolor": "white",
           "ticks": "",
           "title": {
            "standoff": 15
           },
           "zerolinecolor": "white",
           "zerolinewidth": 2
          }
         }
        },
        "title": {
         "text": "Valor de área  cosechada por año"
        },
        "xaxis": {
         "anchor": "y",
         "autorange": true,
         "domain": [
          0,
          1
         ],
         "linecolor": "white",
         "linewidth": 1,
         "range": [
          -2.7065602836879434,
          45.70656028368794
         ],
         "showline": true,
         "title": {
          "text": "indice_tiempo"
         },
         "type": "category"
        },
        "yaxis": {
         "anchor": "x",
         "autorange": true,
         "domain": [
          0,
          1
         ],
         "linecolor": "white",
         "linewidth": 1,
         "range": [
          -1689.7789783889984,
          25534.778978388997
         ],
         "showline": true,
         "title": {
          "text": "valor"
         },
         "type": "linear"
        }
       }
      },
      "image/png": "[encoded data removed]",
      "text/html": [
       "<div>                            <div id=\"c1ee976c-6d68-45f9-9aef-bdaadd409614\" class=\"plotly-graph-div\" style=\"height:525px; width:100%;\"></div>            <script type=\"text/javascript\">                require([\"plotly\"], function(Plotly) {                    window.PLOTLYENV=window.PLOTLYENV || {};                                    if (document.getElementById(\"c1ee976c-6d68-45f9-9aef-bdaadd409614\")) {                    Plotly.newPlot(                        \"c1ee976c-6d68-45f9-9aef-bdaadd409614\",                        [{\"hovertemplate\":\"indice_tiempo=%{x}\\u003cbr\\u003evalor=%{y}\\u003cextra\\u003e\\u003c\\u002fextra\\u003e\",\"legendgroup\":\"\",\"line\":{\"color\":\"#636efa\",\"dash\":\"solid\"},\"marker\":{\"symbol\":\"circle\"},\"mode\":\"lines+markers\",\"name\":\"\",\"orientation\":\"v\",\"showlegend\":false,\"x\":[\"1\\u002f1\\u002f1970\",\"1\\u002f1\\u002f1971\",\"1\\u002f1\\u002f1972\",\"1\\u002f1\\u002f1973\",\"1\\u002f1\\u002f1974\",\"1\\u002f1\\u002f1975\",\"1\\u002f1\\u002f1976\",\"1\\u002f1\\u002f1977\",\"1\\u002f1\\u002f1978\",\"1\\u002f1\\u002f1979\",\"1\\u002f1\\u002f1980\",\"1\\u002f1\\u002f1981\",\"1\\u002f1\\u002f1982\",\"1\\u002f1\\u002f1983\",\"1\\u002f1\\u002f1984\",\"1\\u002f1\\u002f1985\",\"1\\u002f1\\u002f1986\",\"1\\u002f1\\u002f1987\",\"1\\u002f1\\u002f1991\",\"1\\u002f1\\u002f1992\",\"1\\u002f1\\u002f1993\",\"1\\u002f1\\u002f1994\",\"1\\u002f1\\u002f1995\",\"1\\u002f1\\u002f1996\",\"1\\u002f1\\u002f1997\",\"1\\u002f1\\u002f1998\",\"1\\u002f1\\u002f1999\",\"1\\u002f1\\u002f2000\",\"1\\u002f1\\u002f2001\",\"1\\u002f1\\u002f2002\",\"1\\u002f1\\u002f2003\",\"1\\u002f1\\u002f2004\",\"1\\u002f1\\u002f2005\",\"1\\u002f1\\u002f2006\",\"1\\u002f1\\u002f2007\",\"1\\u002f1\\u002f2008\",\"1\\u002f1\\u002f2009\",\"1\\u002f1\\u002f2010\",\"1\\u002f1\\u002f2011\",\"1\\u002f1\\u002f2019\",\"1\\u002f1\\u002f2020\",\"1\\u002f1\\u002f2021\",\"1\\u002f1\\u002f2022\",\"1\\u002f1\\u002f2023\"],\"xaxis\":\"x\",\"y\":[380.0,245.0,360.0,720.0,845.0,960.0,870.0,775.0,875.0,1100.0,1665.0,2170.0,5000.0,4000.0,5000.0,1200.0,3340.0,2060.0,1400.0,4300.0,4900.0,5900.0,8700.0,9800.0,11100.0,8990.0,17200.0,11550.0,15260.0,13575.0,14160.0,16453.0,15075.0,18970.0,16575.0,21095.0,18490.0,17260.0,19150.0,22650.0,23600.0,23600.0,18350.0,16950.0],\"yaxis\":\"y\",\"type\":\"scatter\"}],                        {\"template\":{\"data\":{\"histogram2dcontour\":[{\"type\":\"histogram2dcontour\",\"colorbar\":{\"outlinewidth\":0,\"ticks\":\"\"},\"colorscale\":[[0.0,\"#0d0887\"],[0.1111111111111111,\"#46039f\"],[0.2222222222222222,\"#7201a8\"],[0.3333333333333333,\"#9c179e\"],[0.4444444444444444,\"#bd3786\"],[0.5555555555555556,\"#d8576b\"],[0.6666666666666666,\"#ed7953\"],[0.7777777777777778,\"#fb9f3a\"],[0.8888888888888888,\"#fdca26\"],[1.0,\"#f0f921\"]]}],\"choropleth\":[{\"type\":\"choropleth\",\"colorbar\":{\"outlinewidth\":0,\"ticks\":\"\"}}],\"histogram2d\":[{\"type\":\"histogram2d\",\"colorbar\":{\"outlinewidth\":0,\"ticks\":\"\"},\"colorscale\":[[0.0,\"#0d0887\"],[0.1111111111111111,\"#46039f\"],[0.2222222222222222,\"#7201a8\"],[0.3333333333333333,\"#9c179e\"],[0.4444444444444444,\"#bd3786\"],[0.5555555555555556,\"#d8576b\"],[0.6666666666666666,\"#ed7953\"],[0.7777777777777778,\"#fb9f3a\"],[0.8888888888888888,\"#fdca26\"],[1.0,\"#f0f921\"]]}],\"heatmap\":[{\"type\":\"heatmap\",\"colorbar\":{\"outlinewidth\":0,\"ticks\":\"\"},\"colorscale\":[[0.0,\"#0d0887\"],[0.1111111111111111,\"#46039f\"],[0.2222222222222222,\"#7201a8\"],[0.3333333333333333,\"#9c179e\"],[0.4444444444444444,\"#bd3786\"],[0.5555555555555556,\"#d8576b\"],[0.6666666666666666,\"#ed7953\"],[0.7777777777777778,\"#fb9f3a\"],[0.8888888888888888,\"#fdca26\"],[1.0,\"#f0f921\"]]}],\"heatmapgl\":[{\"type\":\"heatmapgl\",\"colorbar\":{\"outlinewidth\":0,\"ticks\":\"\"},\"colorscale\":[[0.0,\"#0d0887\"],[0.1111111111111111,\"#46039f\"],[0.2222222222222222,\"#7201a8\"],[0.3333333333333333,\"#9c179e\"],[0.4444444444444444,\"#bd3786\"],[0.5555555555555556,\"#d8576b\"],[0.6666666666666666,\"#ed7953\"],[0.7777777777777778,\"#fb9f3a\"],[0.8888888888888888,\"#fdca26\"],[1.0,\"#f0f921\"]]}],\"contourcarpet\":[{\"type\":\"contourcarpet\",\"colorbar\":{\"outlinewidth\":0,\"ticks\":\"\"}}],\"contour\":[{\"type\":\"contour\",\"colorbar\":{\"outlinewidth\":0,\"ticks\":\"\"},\"colorscale\":[[0.0,\"#0d0887\"],[0.1111111111111111,\"#46039f\"],[0.2222222222222222,\"#7201a8\"],[0.3333333333333333,\"#9c179e\"],[0.4444444444444444,\"#bd3786\"],[0.5555555555555556,\"#d8576b\"],[0.6666666666666666,\"#ed7953\"],[0.7777777777777778,\"#fb9f3a\"],[0.8888888888888888,\"#fdca26\"],[1.0,\"#f0f921\"]]}],\"surface\":[{\"type\":\"surface\",\"colorbar\":{\"outlinewidth\":0,\"ticks\":\"\"},\"colorscale\":[[0.0,\"#0d0887\"],[0.1111111111111111,\"#46039f\"],[0.2222222222222222,\"#7201a8\"],[0.3333333333333333,\"#9c179e\"],[0.4444444444444444,\"#bd3786\"],[0.5555555555555556,\"#d8576b\"],[0.6666666666666666,\"#ed7953\"],[0.7777777777777778,\"#fb9f3a\"],[0.8888888888888888,\"#fdca26\"],[1.0,\"#f0f921\"]]}],\"mesh3d\":[{\"type\":\"mesh3d\",\"colorbar\":{\"outlinewidth\":0,\"ticks\":\"\"}}],\"scatter\":[{\"fillpattern\":{\"fillmode\":\"overlay\",\"size\":10,\"solidity\":0.2},\"type\":\"scatter\"}],\"parcoords\":[{\"type\":\"parcoords\",\"line\":{\"colorbar\":{\"outlinewidth\":0,\"ticks\":\"\"}}}],\"scatterpolargl\":[{\"type\":\"scatterpolargl\",\"marker\":{\"colorbar\":{\"outlinewidth\":0,\"ticks\":\"\"}}}],\"bar\":[{\"error_x\":{\"color\":\"#2a3f5f\"},\"error_y\":{\"color\":\"#2a3f5f\"},\"marker\":{\"line\":{\"color\":\"#E5ECF6\",\"width\":0.5},\"pattern\":{\"fillmode\":\"overlay\",\"size\":10,\"solidity\":0.2}},\"type\":\"bar\"}],\"scattergeo\":[{\"type\":\"scattergeo\",\"marker\":{\"colorbar\":{\"outlinewidth\":0,\"ticks\":\"\"}}}],\"scatterpolar\":[{\"type\":\"scatterpolar\",\"marker\":{\"colorbar\":{\"outlinewidth\":0,\"ticks\":\"\"}}}],\"histogram\":[{\"marker\":{\"pattern\":{\"fillmode\":\"overlay\",\"size\":10,\"solidity\":0.2}},\"type\":\"histogram\"}],\"scattergl\":[{\"type\":\"scattergl\",\"marker\":{\"colorbar\":{\"outlinewidth\":0,\"ticks\":\"\"}}}],\"scatter3d\":[{\"type\":\"scatter3d\",\"line\":{\"colorbar\":{\"outlinewidth\":0,\"ticks\":\"\"}},\"marker\":{\"colorbar\":{\"outlinewidth\":0,\"ticks\":\"\"}}}],\"scattermapbox\":[{\"type\":\"scattermapbox\",\"marker\":{\"colorbar\":{\"outlinewidth\":0,\"ticks\":\"\"}}}],\"scatterternary\":[{\"type\":\"scatterternary\",\"marker\":{\"colorbar\":{\"outlinewidth\":0,\"ticks\":\"\"}}}],\"scattercarpet\":[{\"type\":\"scattercarpet\",\"marker\":{\"colorbar\":{\"outlinewidth\":0,\"ticks\":\"\"}}}],\"carpet\":[{\"aaxis\":{\"endlinecolor\":\"#2a3f5f\",\"gridcolor\":\"white\",\"linecolor\":\"white\",\"minorgridcolor\":\"white\",\"startlinecolor\":\"#2a3f5f\"},\"baxis\":{\"endlinecolor\":\"#2a3f5f\",\"gridcolor\":\"white\",\"linecolor\":\"white\",\"minorgridcolor\":\"white\",\"startlinecolor\":\"#2a3f5f\"},\"type\":\"carpet\"}],\"table\":[{\"cells\":{\"fill\":{\"color\":\"#EBF0F8\"},\"line\":{\"color\":\"white\"}},\"header\":{\"fill\":{\"color\":\"#C8D4E3\"},\"line\":{\"color\":\"white\"}},\"type\":\"table\"}],\"barpolar\":[{\"marker\":{\"line\":{\"color\":\"#E5ECF6\",\"width\":0.5},\"pattern\":{\"fillmode\":\"overlay\",\"size\":10,\"solidity\":0.2}},\"type\":\"barpolar\"}],\"pie\":[{\"automargin\":true,\"type\":\"pie\"}]},\"layout\":{\"autotypenumbers\":\"strict\",\"colorway\":[\"#636efa\",\"#EF553B\",\"#00cc96\",\"#ab63fa\",\"#FFA15A\",\"#19d3f3\",\"#FF6692\",\"#B6E880\",\"#FF97FF\",\"#FECB52\"],\"font\":{\"color\":\"#2a3f5f\"},\"hovermode\":\"closest\",\"hoverlabel\":{\"align\":\"left\"},\"paper_bgcolor\":\"white\",\"plot_bgcolor\":\"#E5ECF6\",\"polar\":{\"bgcolor\":\"#E5ECF6\",\"angularaxis\":{\"gridcolor\":\"white\",\"linecolor\":\"white\",\"ticks\":\"\"},\"radialaxis\":{\"gridcolor\":\"white\",\"linecolor\":\"white\",\"ticks\":\"\"}},\"ternary\":{\"bgcolor\":\"#E5ECF6\",\"aaxis\":{\"gridcolor\":\"white\",\"linecolor\":\"white\",\"ticks\":\"\"},\"baxis\":{\"gridcolor\":\"white\",\"linecolor\":\"white\",\"ticks\":\"\"},\"caxis\":{\"gridcolor\":\"white\",\"linecolor\":\"white\",\"ticks\":\"\"}},\"coloraxis\":{\"colorbar\":{\"outlinewidth\":0,\"ticks\":\"\"}},\"colorscale\":{\"sequential\":[[0.0,\"#0d0887\"],[0.1111111111111111,\"#46039f\"],[0.2222222222222222,\"#7201a8\"],[0.3333333333333333,\"#9c179e\"],[0.4444444444444444,\"#bd3786\"],[0.5555555555555556,\"#d8576b\"],[0.6666666666666666,\"#ed7953\"],[0.7777777777777778,\"#fb9f3a\"],[0.8888888888888888,\"#fdca26\"],[1.0,\"#f0f921\"]],\"sequentialminus\":[[0.0,\"#0d0887\"],[0.1111111111111111,\"#46039f\"],[0.2222222222222222,\"#7201a8\"],[0.3333333333333333,\"#9c179e\"],[0.4444444444444444,\"#bd3786\"],[0.5555555555555556,\"#d8576b\"],[0.6666666666666666,\"#ed7953\"],[0.7777777777777778,\"#fb9f3a\"],[0.8888888888888888,\"#fdca26\"],[1.0,\"#f0f921\"]],\"diverging\":[[0,\"#8e0152\"],[0.1,\"#c51b7d\"],[0.2,\"#de77ae\"],[0.3,\"#f1b6da\"],[0.4,\"#fde0ef\"],[0.5,\"#f7f7f7\"],[0.6,\"#e6f5d0\"],[0.7,\"#b8e186\"],[0.8,\"#7fbc41\"],[0.9,\"#4d9221\"],[1,\"#276419\"]]},\"xaxis\":{\"gridcolor\":\"white\",\"linecolor\":\"white\",\"ticks\":\"\",\"title\":{\"standoff\":15},\"zerolinecolor\":\"white\",\"automargin\":true,\"zerolinewidth\":2},\"yaxis\":{\"gridcolor\":\"white\",\"linecolor\":\"white\",\"ticks\":\"\",\"title\":{\"standoff\":15},\"zerolinecolor\":\"white\",\"automargin\":true,\"zerolinewidth\":2},\"scene\":{\"xaxis\":{\"backgroundcolor\":\"#E5ECF6\",\"gridcolor\":\"white\",\"linecolor\":\"white\",\"showbackground\":true,\"ticks\":\"\",\"zerolinecolor\":\"white\",\"gridwidth\":2},\"yaxis\":{\"backgroundcolor\":\"#E5ECF6\",\"gridcolor\":\"white\",\"linecolor\":\"white\",\"showbackground\":true,\"ticks\":\"\",\"zerolinecolor\":\"white\",\"gridwidth\":2},\"zaxis\":{\"backgroundcolor\":\"#E5ECF6\",\"gridcolor\":\"white\",\"linecolor\":\"white\",\"showbackground\":true,\"ticks\":\"\",\"zerolinecolor\":\"white\",\"gridwidth\":2}},\"shapedefaults\":{\"line\":{\"color\":\"#2a3f5f\"}},\"annotationdefaults\":{\"arrowcolor\":\"#2a3f5f\",\"arrowhead\":0,\"arrowwidth\":1},\"geo\":{\"bgcolor\":\"white\",\"landcolor\":\"#E5ECF6\",\"subunitcolor\":\"white\",\"showland\":true,\"showlakes\":true,\"lakecolor\":\"white\"},\"title\":{\"x\":0.05},\"mapbox\":{\"style\":\"light\"}}},\"xaxis\":{\"anchor\":\"y\",\"domain\":[0.0,1.0],\"title\":{\"text\":\"indice_tiempo\"},\"showline\":true,\"linewidth\":1,\"linecolor\":\"white\"},\"yaxis\":{\"anchor\":\"x\",\"domain\":[0.0,1.0],\"title\":{\"text\":\"valor\"},\"showline\":true,\"linewidth\":1,\"linecolor\":\"white\"},\"legend\":{\"tracegroupgap\":0},\"title\":{\"text\":\"Valor de \\u00e1rea  cosechada por a\\u00f1o\"},\"shapes\":[{\"line\":{\"dash\":\"dot\",\"width\":1},\"type\":\"line\",\"x0\":0,\"x1\":1,\"xref\":\"x domain\",\"y0\":0,\"y1\":0,\"yref\":\"y\"}],\"plot_bgcolor\":\"white\",\"paper_bgcolor\":\"white\",\"annotations\":[{\"align\":\"left\",\"font\":{\"color\":\"darkgrey\",\"size\":10},\"showarrow\":false,\"text\":\"Source:https:\\u002f\\u002fdatos.magyp.gob.ar\\u002fdataset?tags=arroz&_tags_limit=0\",\"x\":0,\"xanchor\":\"left\",\"xref\":\"paper\",\"xshift\":-1,\"y\":-0.3,\"yanchor\":\"bottom\",\"yref\":\"paper\",\"yshift\":-5}]},                        {\"responsive\": true}                    ).then(function(){\n",
       "                            \n",
       "var gd = document.getElementById('c1ee976c-6d68-45f9-9aef-bdaadd409614');\n",
       "var x = new MutationObserver(function (mutations, observer) {{\n",
       "        var display = window.getComputedStyle(gd).display;\n",
       "        if (!display || display === 'none') {{\n",
       "            console.log([gd, 'removed!']);\n",
       "            Plotly.purge(gd);\n",
       "            observer.disconnect();\n",
       "        }}\n",
       "}});\n",
       "\n",
       "// Listen for the removal of the full notebook cells\n",
       "var notebookContainer = gd.closest('#notebook-container');\n",
       "if (notebookContainer) {{\n",
       "    x.observe(notebookContainer, {childList: true});\n",
       "}}\n",
       "\n",
       "// Listen for the clearing of the current output cell\n",
       "var outputEl = gd.closest('.output');\n",
       "if (outputEl) {{\n",
       "    x.observe(outputEl, {childList: true});\n",
       "}}\n",
       "\n",
       "                        })                };                });            </script>        </div>"
      ]
     },
     "metadata": {},
     "output_type": "display_data"
    }
   ],
   "source": [
    "\n",
    "Valores = mercedes.groupby(\"indice_tiempo\")[\"valor\"].mean().reset_index()\n",
    "\n",
    "fig = px.line(Valores, x=\"indice_tiempo\", y = \"valor\", markers=True,  title = \"Valor de área  cosechada por año\")\n",
    "\n",
    "fig.add_hline(0, line_width = 1, line_dash = \"dot\")\n",
    "\n",
    "fig.update_layout({\n",
    "'plot_bgcolor': 'white',\n",
    "'paper_bgcolor': 'white',\n",
    "})\n",
    "fig.update_xaxes(showline=True, linewidth=1, linecolor='white')\n",
    "fig.update_yaxes(showline=True, linewidth=1, linecolor='white')\n",
    "\n",
    "fig.add_annotation(\n",
    "    text = (\"Source:https://datos.magyp.gob.ar/dataset?tags=arroz&_tags_limit=0\"), showarrow=False, x = 0, y = -0.30\n",
    "    , xref='paper', yref='paper', xanchor='left', yanchor='bottom', xshift=-1, yshift=-5\n",
    "    , font=dict(size=10, color=\"darkgrey\"), align=\"left\")\n",
    "\n",
    "fig.show()"
   ]
  },
  {
   "cell_type": "markdown",
   "id": "395d434b-3dfa-46e8-9e9d-d9f63959a9aa",
   "metadata": {},
   "source": [
    "## Análisis de datos del cultivo de arroz de exportación."
   ]
  },
  {
   "cell_type": "code",
   "execution_count": 36,
   "id": "bf0d68c4-22e1-4e48-b241-b004d92418a5",
   "metadata": {
    "tags": []
   },
   "outputs": [
    {
     "data": {
      "text/html": [
       "<div>\n",
       "<style scoped>\n",
       "    .dataframe tbody tr th:only-of-type {\n",
       "        vertical-align: middle;\n",
       "    }\n",
       "\n",
       "    .dataframe tbody tr th {\n",
       "        vertical-align: top;\n",
       "    }\n",
       "\n",
       "    .dataframe thead th {\n",
       "        text-align: right;\n",
       "    }\n",
       "</style>\n",
       "<table border=\"1\" class=\"dataframe\">\n",
       "  <thead>\n",
       "    <tr style=\"text-align: right;\">\n",
       "      <th></th>\n",
       "      <th>Cultivo</th>\n",
       "      <th>Campaña</th>\n",
       "      <th>Provincia</th>\n",
       "      <th>Departamento</th>\n",
       "      <th>Sup. Sembrada</th>\n",
       "      <th>Sup. Cosechada</th>\n",
       "      <th>Produccion</th>\n",
       "      <th>Rendimiento</th>\n",
       "    </tr>\n",
       "  </thead>\n",
       "  <tbody>\n",
       "    <tr>\n",
       "      <th>0</th>\n",
       "      <td>Girasol</td>\n",
       "      <td>1969/70</td>\n",
       "      <td>BUENOS AIRES</td>\n",
       "      <td>25 de Mayo</td>\n",
       "      <td>30000</td>\n",
       "      <td>30000</td>\n",
       "      <td>22500</td>\n",
       "      <td>750</td>\n",
       "    </tr>\n",
       "    <tr>\n",
       "      <th>1</th>\n",
       "      <td>Girasol</td>\n",
       "      <td>1970/71</td>\n",
       "      <td>BUENOS AIRES</td>\n",
       "      <td>25 de Mayo</td>\n",
       "      <td>44000</td>\n",
       "      <td>31000</td>\n",
       "      <td>15000</td>\n",
       "      <td>484</td>\n",
       "    </tr>\n",
       "    <tr>\n",
       "      <th>2</th>\n",
       "      <td>Girasol</td>\n",
       "      <td>1971/72</td>\n",
       "      <td>BUENOS AIRES</td>\n",
       "      <td>25 de Mayo</td>\n",
       "      <td>22000</td>\n",
       "      <td>19000</td>\n",
       "      <td>10450</td>\n",
       "      <td>550</td>\n",
       "    </tr>\n",
       "    <tr>\n",
       "      <th>3</th>\n",
       "      <td>Girasol</td>\n",
       "      <td>1972/73</td>\n",
       "      <td>BUENOS AIRES</td>\n",
       "      <td>25 de Mayo</td>\n",
       "      <td>20000</td>\n",
       "      <td>5000</td>\n",
       "      <td>5100</td>\n",
       "      <td>1020</td>\n",
       "    </tr>\n",
       "    <tr>\n",
       "      <th>4</th>\n",
       "      <td>Girasol</td>\n",
       "      <td>1973/74</td>\n",
       "      <td>BUENOS AIRES</td>\n",
       "      <td>25 de Mayo</td>\n",
       "      <td>14000</td>\n",
       "      <td>14000</td>\n",
       "      <td>10800</td>\n",
       "      <td>771</td>\n",
       "    </tr>\n",
       "  </tbody>\n",
       "</table>\n",
       "</div>"
      ],
      "text/plain": [
       "   Cultivo  Campaña     Provincia Departamento  Sup. Sembrada  Sup. Cosechada  \\\n",
       "0  Girasol  1969/70  BUENOS AIRES   25 de Mayo          30000           30000   \n",
       "1  Girasol  1970/71  BUENOS AIRES   25 de Mayo          44000           31000   \n",
       "2  Girasol  1971/72  BUENOS AIRES   25 de Mayo          22000           19000   \n",
       "3  Girasol  1972/73  BUENOS AIRES   25 de Mayo          20000            5000   \n",
       "4  Girasol  1973/74  BUENOS AIRES   25 de Mayo          14000           14000   \n",
       "\n",
       "   Produccion  Rendimiento  \n",
       "0       22500          750  \n",
       "1       15000          484  \n",
       "2       10450          550  \n",
       "3        5100         1020  \n",
       "4       10800          771  "
      ]
     },
     "execution_count": 36,
     "metadata": {},
     "output_type": "execute_result"
    }
   ],
   "source": [
    "df_cultivos = pd.read_csv(\"datos-magyp-cultivos-principales.csv\", \n",
    "                          sep=\";\", encoding=\"latin1\", thousands=\".\", decimal=\",\")\n",
    "df_cultivos.head()"
   ]
  },
  {
   "cell_type": "markdown",
   "id": "ba3f854b-6536-44d6-a266-6f2b9b197cd2",
   "metadata": {},
   "source": [
    "## Precio internacional del cultivo"
   ]
  },
  {
   "cell_type": "code",
   "execution_count": 37,
   "id": "41177a52-1014-4a0f-aadf-569010fe6d37",
   "metadata": {
    "tags": []
   },
   "outputs": [],
   "source": [
    "API_COMTRADE = \"http://comtrade.un.org/api/get\""
   ]
  },
  {
   "cell_type": "code",
   "execution_count": 38,
   "id": "d55f3566-70d8-4f95-baeb-61bceeb3c03f",
   "metadata": {
    "tags": []
   },
   "outputs": [],
   "source": [
    "parametros = {\n",
    "    \"freq\": \"A\", # frecuencia anual\n",
    "    \"r\": 32, # reporter (reporta los datos): 32 es el código de la Argentina\n",
    "    \"ps\": \"ALL\", # período (any para tomar todos los años)\n",
    "    \"px\": \"S1\", # sistema de clasificación de productos: SITC Rev 1 es la serie más larga\n",
    "    \"fmt\": \"JSON\", # formato devuelto (CSV o JSON)\n",
    "    \"p\": 0, # partner (contraparte comercial del reporter): 0 es el código del Mundo\n",
    "    \"rg\": 2, # 1: importaciones, 2: exportaciones\n",
    "    \"cc\": \"2214,041\", # commodity code: 2214 \"Arroz\" \n",
    "    \"max\": 50000, # cantidad máxima de resultados (50.000 es un máximo absoluto)\n",
    "    \"head\": \"H\", # M: machine readable headers, H: human readable headers\n",
    "}"
   ]
  },
  {
   "cell_type": "code",
   "execution_count": 40,
   "id": "a13f7a39-1b74-40c1-9b2a-20281c43eb3e",
   "metadata": {
    "tags": []
   },
   "outputs": [],
   "source": [
    "\n",
    "with open(\"comtrade-cultivos-principales.json\", \"rb\") as f:\n",
    "    json_res = json.load(f)"
   ]
  },
  {
   "cell_type": "markdown",
   "id": "760ca98d-7250-4648-8cef-ab04502b4ce3",
   "metadata": {
    "tags": []
   },
   "source": [
    "### Se crea un dataframe"
   ]
  },
  {
   "cell_type": "code",
   "execution_count": 41,
   "id": "685fc5e6-9f61-45b4-9e6d-730ae876703e",
   "metadata": {
    "tags": []
   },
   "outputs": [],
   "source": [
    "arroz_precio = pd.DataFrame(json_res[\"dataset\"])"
   ]
  },
  {
   "cell_type": "markdown",
   "id": "bc6142a7-c387-42fb-9f84-86d62281a7da",
   "metadata": {},
   "source": [
    "### columnas a utilizar"
   ]
  },
  {
   "cell_type": "code",
   "execution_count": 42,
   "id": "2538856a-8d44-4852-a990-b024eb0a65e5",
   "metadata": {
    "tags": []
   },
   "outputs": [],
   "source": [
    "columnas = [\"rgDesc\", \"rtTitle\", \"ptTitle\", \"yr\",\n",
    "           \"cmdCode\", \"cmdDescE\", \"TradeValue\", \"TradeQuantity\", \"qtDesc\"]"
   ]
  },
  {
   "cell_type": "code",
   "execution_count": 43,
   "id": "66dfab2b-cda5-41b3-8ed0-29ef71ca93b4",
   "metadata": {
    "tags": []
   },
   "outputs": [
    {
     "data": {
      "text/html": [
       "<div>\n",
       "<style scoped>\n",
       "    .dataframe tbody tr th:only-of-type {\n",
       "        vertical-align: middle;\n",
       "    }\n",
       "\n",
       "    .dataframe tbody tr th {\n",
       "        vertical-align: top;\n",
       "    }\n",
       "\n",
       "    .dataframe thead th {\n",
       "        text-align: right;\n",
       "    }\n",
       "</style>\n",
       "<table border=\"1\" class=\"dataframe\">\n",
       "  <thead>\n",
       "    <tr style=\"text-align: right;\">\n",
       "      <th></th>\n",
       "      <th>rgDesc</th>\n",
       "      <th>rtTitle</th>\n",
       "      <th>ptTitle</th>\n",
       "      <th>yr</th>\n",
       "      <th>cmdCode</th>\n",
       "      <th>cmdDescE</th>\n",
       "      <th>TradeValue</th>\n",
       "      <th>TradeQuantity</th>\n",
       "      <th>qtDesc</th>\n",
       "    </tr>\n",
       "  </thead>\n",
       "  <tbody>\n",
       "    <tr>\n",
       "      <th>0</th>\n",
       "      <td>Export</td>\n",
       "      <td>Argentina</td>\n",
       "      <td>World</td>\n",
       "      <td>1962</td>\n",
       "      <td>041</td>\n",
       "      <td>Wheat  including spelt   and meslin, unmilled</td>\n",
       "      <td>173363088</td>\n",
       "      <td>2832336128</td>\n",
       "      <td>Weight in kilograms</td>\n",
       "    </tr>\n",
       "    <tr>\n",
       "      <th>1</th>\n",
       "      <td>Export</td>\n",
       "      <td>Argentina</td>\n",
       "      <td>World</td>\n",
       "      <td>1963</td>\n",
       "      <td>041</td>\n",
       "      <td>Wheat  including spelt   and meslin, unmilled</td>\n",
       "      <td>116388784</td>\n",
       "      <td>1830655616</td>\n",
       "      <td>Weight in kilograms</td>\n",
       "    </tr>\n",
       "    <tr>\n",
       "      <th>2</th>\n",
       "      <td>Export</td>\n",
       "      <td>Argentina</td>\n",
       "      <td>World</td>\n",
       "      <td>1964</td>\n",
       "      <td>041</td>\n",
       "      <td>Wheat  including spelt   and meslin, unmilled</td>\n",
       "      <td>242256288</td>\n",
       "      <td>3710008576</td>\n",
       "      <td>Weight in kilograms</td>\n",
       "    </tr>\n",
       "    <tr>\n",
       "      <th>3</th>\n",
       "      <td>Export</td>\n",
       "      <td>Argentina</td>\n",
       "      <td>World</td>\n",
       "      <td>1965</td>\n",
       "      <td>041</td>\n",
       "      <td>Wheat  including spelt   and meslin, unmilled</td>\n",
       "      <td>372666400</td>\n",
       "      <td>6660583936</td>\n",
       "      <td>Weight in kilograms</td>\n",
       "    </tr>\n",
       "    <tr>\n",
       "      <th>4</th>\n",
       "      <td>Export</td>\n",
       "      <td>Argentina</td>\n",
       "      <td>World</td>\n",
       "      <td>1966</td>\n",
       "      <td>041</td>\n",
       "      <td>Wheat  including spelt   and meslin, unmilled</td>\n",
       "      <td>279624704</td>\n",
       "      <td>5054666240</td>\n",
       "      <td>Weight in kilograms</td>\n",
       "    </tr>\n",
       "  </tbody>\n",
       "</table>\n",
       "</div>"
      ],
      "text/plain": [
       "   rgDesc    rtTitle ptTitle    yr cmdCode  \\\n",
       "0  Export  Argentina   World  1962     041   \n",
       "1  Export  Argentina   World  1963     041   \n",
       "2  Export  Argentina   World  1964     041   \n",
       "3  Export  Argentina   World  1965     041   \n",
       "4  Export  Argentina   World  1966     041   \n",
       "\n",
       "                                        cmdDescE  TradeValue  TradeQuantity  \\\n",
       "0  Wheat  including spelt   and meslin, unmilled   173363088     2832336128   \n",
       "1  Wheat  including spelt   and meslin, unmilled   116388784     1830655616   \n",
       "2  Wheat  including spelt   and meslin, unmilled   242256288     3710008576   \n",
       "3  Wheat  including spelt   and meslin, unmilled   372666400     6660583936   \n",
       "4  Wheat  including spelt   and meslin, unmilled   279624704     5054666240   \n",
       "\n",
       "                qtDesc  \n",
       "0  Weight in kilograms  \n",
       "1  Weight in kilograms  \n",
       "2  Weight in kilograms  \n",
       "3  Weight in kilograms  \n",
       "4  Weight in kilograms  "
      ]
     },
     "execution_count": 43,
     "metadata": {},
     "output_type": "execute_result"
    }
   ],
   "source": [
    "arroz_precio[columnas].head(5)"
   ]
  },
  {
   "cell_type": "code",
   "execution_count": 44,
   "id": "4da19f74-cac7-41bb-b599-15b5b8a8da37",
   "metadata": {
    "tags": []
   },
   "outputs": [],
   "source": [
    "arroz_precio[\"tnPrec\"] = arroz_precio.TradeValue / arroz_precio.TradeQuantity * 1000"
   ]
  },
  {
   "cell_type": "code",
   "execution_count": 45,
   "id": "e033beab-885f-45b3-a9e5-3d66b10954d5",
   "metadata": {
    "tags": []
   },
   "outputs": [],
   "source": [
    "precios_arroz = arroz_precio[arroz_precio.cmdCode == \"2214\"][[\"yr\", \"tnPrec\"]].sort_values(\"yr\").set_index(\"yr\")\n"
   ]
  },
  {
   "cell_type": "code",
   "execution_count": 46,
   "id": "bd88f755-809a-4203-96cf-a45b7d3d4ce9",
   "metadata": {
    "tags": []
   },
   "outputs": [
    {
     "data": {
      "text/plain": [
       "<Axes: xlabel='yr'>"
      ]
     },
     "execution_count": 46,
     "metadata": {},
     "output_type": "execute_result"
    },
    {
     "data": {
      "image/png": "[encoded data removed]",
      "text/plain": [
       "<Figure size 640x480 with 1 Axes>"
      ]
     },
     "metadata": {},
     "output_type": "display_data"
    }
   ],
   "source": [
    "precios_arroz.plot.line()"
   ]
  },
  {
   "cell_type": "code",
   "execution_count": null,
   "id": "d69f6025-a955-4ed4-bee6-57d8e6c2a297",
   "metadata": {},
   "outputs": [],
   "source": []
  }
 ],
 "metadata": {
  "kernelspec": {
   "display_name": "Python 3 (ipykernel)",
   "language": "python",
   "name": "python3"
  },
  "language_info": {
   "codemirror_mode": {
    "name": "ipython",
    "version": 3
   },
   "file_extension": ".py",
   "mimetype": "text/x-python",
   "name": "python",
   "nbconvert_exporter": "python",
   "pygments_lexer": "ipython3",
   "version": "3.11.5"
  }
 },
 "nbformat": 4,
 "nbformat_minor": 5
}
